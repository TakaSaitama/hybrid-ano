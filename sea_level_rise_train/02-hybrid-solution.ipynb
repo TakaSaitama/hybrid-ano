{
 "cells": [
  {
   "cell_type": "code",
   "execution_count": 1,
   "id": "ada62422-22f1-4737-8d58-7adef2ab1fe0",
   "metadata": {
    "execution": {
     "iopub.execute_input": "2025-02-12T10:17:23.568740Z",
     "iopub.status.busy": "2025-02-12T10:17:23.566210Z",
     "iopub.status.idle": "2025-02-12T10:17:24.162062Z",
     "shell.execute_reply": "2025-02-12T10:17:24.160202Z",
     "shell.execute_reply.started": "2025-02-12T10:17:23.568613Z"
    }
   },
   "outputs": [
    {
     "name": "stdout",
     "output_type": "stream",
     "text": [
      "input/station_data\n",
      "total 4.0M\n",
      "drwxrwxr-x 2 moto moto 4.0K Jan 26 20:41 .\n",
      "drwxrwxr-x 4 moto moto 4.0K Feb 12 11:15 ..\n",
      "-rw-rw-r-- 1 moto moto 349K Aug 25 01:19 Atlantic_City_1993_2013_training_data.csv\n",
      "-rw-rw-r-- 1 moto moto 329K Aug 25 01:19 Baltimore_1993_2013_training_data.csv\n",
      "-rw-rw-r-- 1 moto moto 315K Aug 25 01:19 Eastport_1993_2013_training_data.csv\n",
      "-rw-rw-r-- 1 moto moto 321K Aug 25 01:19 Fort_Pulaski_1993_2013_training_data.csv\n",
      "-rw-rw-r-- 1 moto moto 291K Aug 25 01:19 Lewes_1993_2013_training_data.csv\n",
      "-rw-rw-r-- 1 moto moto 335K Aug 25 01:19 New_London_1993_2013_training_data.csv\n",
      "-rw-rw-r-- 1 moto moto 313K Aug 25 01:19 Newport_1993_2013_training_data.csv\n",
      "input/satelite_data\n",
      "-rw-rw-r-- 1 moto moto 241K Aug 25 21:41 dt_ena_20131222_vDT2021.nc\n",
      "-rw-rw-r-- 1 moto moto 241K Aug 25 21:41 dt_ena_20131223_vDT2021.nc\n",
      "-rw-rw-r-- 1 moto moto 241K Aug 25 21:41 dt_ena_20131224_vDT2021.nc\n",
      "-rw-rw-r-- 1 moto moto 241K Aug 25 21:42 dt_ena_20131225_vDT2021.nc\n",
      "-rw-rw-r-- 1 moto moto 241K Aug 25 21:41 dt_ena_20131226_vDT2021.nc\n",
      "-rw-rw-r-- 1 moto moto 241K Aug 25 21:41 dt_ena_20131227_vDT2021.nc\n",
      "-rw-rw-r-- 1 moto moto 241K Aug 25 21:41 dt_ena_20131228_vDT2021.nc\n",
      "-rw-rw-r-- 1 moto moto 241K Aug 25 21:41 dt_ena_20131229_vDT2021.nc\n",
      "-rw-rw-r-- 1 moto moto 241K Aug 25 21:41 dt_ena_20131230_vDT2021.nc\n",
      "-rw-rw-r-- 1 moto moto 241K Aug 25 21:41 dt_ena_20131231_vDT2021.nc\n"
     ]
    }
   ],
   "source": [
    "nb_folds = 5\n",
    "seed = 2024\n",
    "\n",
    "input_dir = \"input/\"\n",
    "labels_dir = input_dir + \"station_data\"\n",
    "satelite_dir = input_dir + \"satelite_data\"\n",
    "\n",
    "!echo $labels_dir\n",
    "!ls -alh $labels_dir | head\n",
    "\n",
    "!echo $satelite_dir\n",
    "!ls -alh $satelite_dir | tail"
   ]
  },
  {
   "cell_type": "code",
   "execution_count": 2,
   "id": "f5f5d201-e4b0-4242-9acf-5400e3c857e3",
   "metadata": {
    "execution": {
     "iopub.execute_input": "2025-02-12T10:17:29.232197Z",
     "iopub.status.busy": "2025-02-12T10:17:29.231347Z",
     "iopub.status.idle": "2025-02-12T10:17:30.369255Z",
     "shell.execute_reply": "2025-02-12T10:17:30.367914Z",
     "shell.execute_reply.started": "2025-02-12T10:17:29.232120Z"
    }
   },
   "outputs": [],
   "source": [
    "# !pip install netCDF4\n",
    "import netCDF4\n",
    "import os\n",
    "import numpy as np\n",
    "import pandas as pd\n",
    "import matplotlib.pyplot as plt\n",
    "import glob"
   ]
  },
  {
   "cell_type": "code",
   "execution_count": 3,
   "id": "61424510-309a-4fda-84cc-ed6334cf397f",
   "metadata": {
    "execution": {
     "iopub.execute_input": "2025-02-12T10:17:30.371190Z",
     "iopub.status.busy": "2025-02-12T10:17:30.370777Z",
     "iopub.status.idle": "2025-02-12T10:17:31.405148Z",
     "shell.execute_reply": "2025-02-12T10:17:31.402310Z",
     "shell.execute_reply.started": "2025-02-12T10:17:30.371156Z"
    }
   },
   "outputs": [
    {
     "name": "stdout",
     "output_type": "stream",
     "text": [
      "Python 3.9.21\n"
     ]
    }
   ],
   "source": [
    "import numpy as np\n",
    "import pandas as pd\n",
    "import pickle\n",
    "import glob\n",
    "\n",
    "from sklearn.model_selection import StratifiedKFold, StratifiedGroupKFold\n",
    "from sklearn.metrics import confusion_matrix, ConfusionMatrixDisplay\n",
    "\n",
    "import numpy as np\n",
    "np.bool = bool\n",
    "\n",
    "from sklearn import metrics\n",
    "import matplotlib.pyplot as plt\n",
    "from tqdm import tqdm\n",
    "\n",
    "# Mine\n",
    "from GCForest import gcForest # https://github.com/pylablanche/gcForest/tree/master\n",
    "import utils\n",
    "utils.seed_basic(seed)\n",
    "\n",
    "!python --version"
   ]
  },
  {
   "cell_type": "code",
   "execution_count": 4,
   "id": "4030c45b-8225-4c43-b4d4-e807d253e427",
   "metadata": {
    "execution": {
     "iopub.execute_input": "2025-02-12T10:17:31.410783Z",
     "iopub.status.busy": "2025-02-12T10:17:31.409387Z",
     "iopub.status.idle": "2025-02-12T10:17:31.421978Z",
     "shell.execute_reply": "2025-02-12T10:17:31.419593Z",
     "shell.execute_reply.started": "2025-02-12T10:17:31.410702Z"
    }
   },
   "outputs": [],
   "source": [
    "from sklearn.metrics import recall_score, precision_score, f1_score, roc_auc_score, accuracy_score\n",
    "from sklearn.metrics import precision_recall_curve, auc"
   ]
  },
  {
   "cell_type": "code",
   "execution_count": 5,
   "id": "a0c2828f-114a-46ca-b749-83baf47c1eb0",
   "metadata": {
    "execution": {
     "iopub.execute_input": "2025-02-12T10:17:31.485120Z",
     "iopub.status.busy": "2025-02-12T10:17:31.484334Z",
     "iopub.status.idle": "2025-02-12T10:17:31.764202Z",
     "shell.execute_reply": "2025-02-12T10:17:31.763116Z",
     "shell.execute_reply.started": "2025-02-12T10:17:31.485050Z"
    }
   },
   "outputs": [
    {
     "name": "stdout",
     "output_type": "stream",
     "text": [
      "input/station_data/Fort_Pulaski_1993_2013_training_data.csv\n",
      "input/station_data/Eastport_1993_2013_training_data.csv\n",
      "input/station_data/Sewells_Point_1993_2013_training_data.csv\n",
      "input/station_data/Lewes_1993_2013_training_data.csv\n",
      "input/station_data/The_Battery_1993_2013_training_data.csv\n",
      "input/station_data/New_London_1993_2013_training_data.csv\n",
      "input/station_data/Portland_1993_2013_training_data.csv\n",
      "input/station_data/Baltimore_1993_2013_training_data.csv\n",
      "input/station_data/Newport_1993_2013_training_data.csv\n",
      "input/station_data/Washington_1993_2013_training_data.csv\n",
      "input/station_data/Atlantic_City_1993_2013_training_data.csv\n",
      "input/station_data/Sandy_Hook_1993_2013_training_data.csv\n",
      "12\n",
      "               count      mean  sum\n",
      "location                           \n",
      "Atlantic City   7429  0.043478  323\n",
      "Baltimore       7649  0.023271  178\n",
      "Eastport        7495  0.062041  465\n",
      "Fort Pulaski    7628  0.014552  111\n",
      "Lewes           7639  0.041367  316\n",
      "New London      7607  0.004470   34\n",
      "Newport         7621  0.000525    4\n",
      "Portland        7622  0.011808   90\n",
      "Sandy Hook      7561  0.045364  343\n",
      "Sewells Point   7658  0.015409  118\n",
      "The Battery     7259  0.007301   53\n",
      "Washington      7280  0.063599  463\n",
      "      count      mean\n",
      "fold                 \n",
      "0     21741  0.030173\n",
      "1     16887  0.021022\n",
      "2     17423  0.028296\n",
      "3     17239  0.031382\n",
      "4     17158  0.026402\n"
     ]
    },
    {
     "data": {
      "text/html": [
       "<div>\n",
       "<style scoped>\n",
       "    .dataframe tbody tr th:only-of-type {\n",
       "        vertical-align: middle;\n",
       "    }\n",
       "\n",
       "    .dataframe tbody tr th {\n",
       "        vertical-align: top;\n",
       "    }\n",
       "\n",
       "    .dataframe thead th {\n",
       "        text-align: right;\n",
       "    }\n",
       "</style>\n",
       "<table border=\"1\" class=\"dataframe\">\n",
       "  <thead>\n",
       "    <tr style=\"text-align: right;\">\n",
       "      <th></th>\n",
       "      <th>t</th>\n",
       "      <th>anomaly</th>\n",
       "      <th>location</th>\n",
       "      <th>latitude</th>\n",
       "      <th>longitude</th>\n",
       "      <th>fold</th>\n",
       "    </tr>\n",
       "  </thead>\n",
       "  <tbody>\n",
       "    <tr>\n",
       "      <th>90443</th>\n",
       "      <td>2013-12-27</td>\n",
       "      <td>0</td>\n",
       "      <td>Sandy Hook</td>\n",
       "      <td>40.466944</td>\n",
       "      <td>-74.009444</td>\n",
       "      <td>0</td>\n",
       "    </tr>\n",
       "    <tr>\n",
       "      <th>90444</th>\n",
       "      <td>2013-12-28</td>\n",
       "      <td>0</td>\n",
       "      <td>Sandy Hook</td>\n",
       "      <td>40.466944</td>\n",
       "      <td>-74.009444</td>\n",
       "      <td>0</td>\n",
       "    </tr>\n",
       "    <tr>\n",
       "      <th>90445</th>\n",
       "      <td>2013-12-29</td>\n",
       "      <td>0</td>\n",
       "      <td>Sandy Hook</td>\n",
       "      <td>40.466944</td>\n",
       "      <td>-74.009444</td>\n",
       "      <td>0</td>\n",
       "    </tr>\n",
       "    <tr>\n",
       "      <th>90446</th>\n",
       "      <td>2013-12-30</td>\n",
       "      <td>0</td>\n",
       "      <td>Sandy Hook</td>\n",
       "      <td>40.466944</td>\n",
       "      <td>-74.009444</td>\n",
       "      <td>0</td>\n",
       "    </tr>\n",
       "    <tr>\n",
       "      <th>90447</th>\n",
       "      <td>2013-12-31</td>\n",
       "      <td>0</td>\n",
       "      <td>Sandy Hook</td>\n",
       "      <td>40.466944</td>\n",
       "      <td>-74.009444</td>\n",
       "      <td>0</td>\n",
       "    </tr>\n",
       "  </tbody>\n",
       "</table>\n",
       "</div>"
      ],
      "text/plain": [
       "                t  anomaly    location   latitude  longitude  fold\n",
       "90443  2013-12-27        0  Sandy Hook  40.466944 -74.009444     0\n",
       "90444  2013-12-28        0  Sandy Hook  40.466944 -74.009444     0\n",
       "90445  2013-12-29        0  Sandy Hook  40.466944 -74.009444     0\n",
       "90446  2013-12-30        0  Sandy Hook  40.466944 -74.009444     0\n",
       "90447  2013-12-31        0  Sandy Hook  40.466944 -74.009444     0"
      ]
     },
     "execution_count": 5,
     "metadata": {},
     "output_type": "execute_result"
    }
   ],
   "source": [
    "filenames = glob.glob(f\"{labels_dir}/*.csv\")\n",
    "df_full = []\n",
    "for filename in filenames:\n",
    "    if \"merged\" in filename:\n",
    "        continue\n",
    "    print(filename)\n",
    "    df_run = pd.read_csv(filename)\n",
    "    df_full.append(df_run)\n",
    "\n",
    "print(len(df_full))\n",
    "df_full = pd.concat(df_full).reset_index(drop=True)\n",
    "\n",
    "first_date = '1993-01-01'\n",
    "first_year = int(first_date[:4])\n",
    "\n",
    "print(df_full.groupby([\"location\"])[\"anomaly\"].agg([\"count\", \"mean\", \"sum\"]))\n",
    "df_full[\"fold\"] = df_full[\"t\"].apply(lambda t: (int(t[:4]) - first_year) % nb_folds)\n",
    "print(df_full.groupby([\"fold\"])[\"anomaly\"].agg([\"count\", \"mean\"]))\n",
    "df_full.tail()"
   ]
  },
  {
   "cell_type": "code",
   "execution_count": 6,
   "id": "bfd65436-457f-438c-9e04-2fe236fcfd1b",
   "metadata": {
    "execution": {
     "iopub.execute_input": "2025-02-12T10:17:32.209080Z",
     "iopub.status.busy": "2025-02-12T10:17:32.208647Z",
     "iopub.status.idle": "2025-02-12T10:17:32.248051Z",
     "shell.execute_reply": "2025-02-12T10:17:32.246430Z",
     "shell.execute_reply.started": "2025-02-12T10:17:32.209044Z"
    }
   },
   "outputs": [
    {
     "data": {
      "text/plain": [
       "t\n",
       "2002-02-28     9\n",
       "2004-01-25     9\n",
       "2004-01-24     9\n",
       "2004-01-16     9\n",
       "2004-02-01     9\n",
       "              ..\n",
       "2000-02-17    12\n",
       "2000-02-16    12\n",
       "2000-02-15    12\n",
       "2000-02-25    12\n",
       "2013-12-31    12\n",
       "Name: location, Length: 7670, dtype: int64"
      ]
     },
     "execution_count": 6,
     "metadata": {},
     "output_type": "execute_result"
    }
   ],
   "source": [
    "df_full.groupby(\"t\")[\"location\"].count().sort_values()"
   ]
  },
  {
   "cell_type": "code",
   "execution_count": 7,
   "id": "9bb75169-c80f-4e43-9fd4-91154c4d8b9a",
   "metadata": {
    "execution": {
     "iopub.execute_input": "2025-02-12T10:17:33.047003Z",
     "iopub.status.busy": "2025-02-12T10:17:33.046197Z",
     "iopub.status.idle": "2025-02-12T10:17:33.090974Z",
     "shell.execute_reply": "2025-02-12T10:17:33.089477Z",
     "shell.execute_reply.started": "2025-02-12T10:17:33.046931Z"
    }
   },
   "outputs": [
    {
     "data": {
      "text/html": [
       "<div>\n",
       "<style scoped>\n",
       "    .dataframe tbody tr th:only-of-type {\n",
       "        vertical-align: middle;\n",
       "    }\n",
       "\n",
       "    .dataframe tbody tr th {\n",
       "        vertical-align: top;\n",
       "    }\n",
       "\n",
       "    .dataframe thead th {\n",
       "        text-align: right;\n",
       "    }\n",
       "</style>\n",
       "<table border=\"1\" class=\"dataframe\">\n",
       "  <thead>\n",
       "    <tr style=\"text-align: right;\">\n",
       "      <th></th>\n",
       "      <th>t</th>\n",
       "      <th>anomaly</th>\n",
       "      <th>location</th>\n",
       "      <th>latitude</th>\n",
       "      <th>longitude</th>\n",
       "      <th>fold</th>\n",
       "    </tr>\n",
       "  </thead>\n",
       "  <tbody>\n",
       "    <tr>\n",
       "      <th>80449</th>\n",
       "      <td>2007-04-19</td>\n",
       "      <td>1</td>\n",
       "      <td>Atlantic City</td>\n",
       "      <td>39.356667</td>\n",
       "      <td>-74.418053</td>\n",
       "      <td>4</td>\n",
       "    </tr>\n",
       "    <tr>\n",
       "      <th>58113</th>\n",
       "      <td>2007-04-19</td>\n",
       "      <td>1</td>\n",
       "      <td>Baltimore</td>\n",
       "      <td>39.266944</td>\n",
       "      <td>-76.579444</td>\n",
       "      <td>4</td>\n",
       "    </tr>\n",
       "    <tr>\n",
       "      <th>12692</th>\n",
       "      <td>2007-04-19</td>\n",
       "      <td>1</td>\n",
       "      <td>Eastport</td>\n",
       "      <td>44.904598</td>\n",
       "      <td>-66.982903</td>\n",
       "      <td>4</td>\n",
       "    </tr>\n",
       "    <tr>\n",
       "      <th>5179</th>\n",
       "      <td>2007-04-19</td>\n",
       "      <td>1</td>\n",
       "      <td>Fort Pulaski</td>\n",
       "      <td>32.036700</td>\n",
       "      <td>-80.901700</td>\n",
       "      <td>4</td>\n",
       "    </tr>\n",
       "    <tr>\n",
       "      <th>27973</th>\n",
       "      <td>2007-04-19</td>\n",
       "      <td>1</td>\n",
       "      <td>Lewes</td>\n",
       "      <td>38.782780</td>\n",
       "      <td>-75.119164</td>\n",
       "      <td>4</td>\n",
       "    </tr>\n",
       "    <tr>\n",
       "      <th>42843</th>\n",
       "      <td>2007-04-19</td>\n",
       "      <td>1</td>\n",
       "      <td>New London</td>\n",
       "      <td>41.361401</td>\n",
       "      <td>-72.089996</td>\n",
       "      <td>4</td>\n",
       "    </tr>\n",
       "    <tr>\n",
       "      <th>65738</th>\n",
       "      <td>2007-04-19</td>\n",
       "      <td>0</td>\n",
       "      <td>Newport</td>\n",
       "      <td>41.504333</td>\n",
       "      <td>-71.326139</td>\n",
       "      <td>4</td>\n",
       "    </tr>\n",
       "    <tr>\n",
       "      <th>50473</th>\n",
       "      <td>2007-04-19</td>\n",
       "      <td>1</td>\n",
       "      <td>Portland</td>\n",
       "      <td>43.658060</td>\n",
       "      <td>-70.244170</td>\n",
       "      <td>4</td>\n",
       "    </tr>\n",
       "    <tr>\n",
       "      <th>88048</th>\n",
       "      <td>2007-04-19</td>\n",
       "      <td>1</td>\n",
       "      <td>Sandy Hook</td>\n",
       "      <td>40.466944</td>\n",
       "      <td>-74.009444</td>\n",
       "      <td>4</td>\n",
       "    </tr>\n",
       "    <tr>\n",
       "      <th>20332</th>\n",
       "      <td>2007-04-19</td>\n",
       "      <td>0</td>\n",
       "      <td>Sewells Point</td>\n",
       "      <td>36.946701</td>\n",
       "      <td>-76.330002</td>\n",
       "      <td>4</td>\n",
       "    </tr>\n",
       "    <tr>\n",
       "      <th>35230</th>\n",
       "      <td>2007-04-19</td>\n",
       "      <td>1</td>\n",
       "      <td>The Battery</td>\n",
       "      <td>40.700556</td>\n",
       "      <td>-74.014167</td>\n",
       "      <td>4</td>\n",
       "    </tr>\n",
       "    <tr>\n",
       "      <th>73012</th>\n",
       "      <td>2007-04-19</td>\n",
       "      <td>1</td>\n",
       "      <td>Washington</td>\n",
       "      <td>38.873000</td>\n",
       "      <td>-77.021700</td>\n",
       "      <td>4</td>\n",
       "    </tr>\n",
       "  </tbody>\n",
       "</table>\n",
       "</div>"
      ],
      "text/plain": [
       "                t  anomaly       location   latitude  longitude  fold\n",
       "80449  2007-04-19        1  Atlantic City  39.356667 -74.418053     4\n",
       "58113  2007-04-19        1      Baltimore  39.266944 -76.579444     4\n",
       "12692  2007-04-19        1       Eastport  44.904598 -66.982903     4\n",
       "5179   2007-04-19        1   Fort Pulaski  32.036700 -80.901700     4\n",
       "27973  2007-04-19        1          Lewes  38.782780 -75.119164     4\n",
       "42843  2007-04-19        1     New London  41.361401 -72.089996     4\n",
       "65738  2007-04-19        0        Newport  41.504333 -71.326139     4\n",
       "50473  2007-04-19        1       Portland  43.658060 -70.244170     4\n",
       "88048  2007-04-19        1     Sandy Hook  40.466944 -74.009444     4\n",
       "20332  2007-04-19        0  Sewells Point  36.946701 -76.330002     4\n",
       "35230  2007-04-19        1    The Battery  40.700556 -74.014167     4\n",
       "73012  2007-04-19        1     Washington  38.873000 -77.021700     4"
      ]
     },
     "execution_count": 7,
     "metadata": {},
     "output_type": "execute_result"
    }
   ],
   "source": [
    "df_full[df_full[\"t\"] == \"2007-04-19\"].sort_values(\"location\")"
   ]
  },
  {
   "cell_type": "code",
   "execution_count": 8,
   "id": "b28d283f-ecda-476e-8b6c-51e3ba41d5a2",
   "metadata": {
    "execution": {
     "iopub.execute_input": "2025-02-12T10:17:33.782922Z",
     "iopub.status.busy": "2025-02-12T10:17:33.782110Z",
     "iopub.status.idle": "2025-02-12T10:17:33.889068Z",
     "shell.execute_reply": "2025-02-12T10:17:33.888064Z",
     "shell.execute_reply.started": "2025-02-12T10:17:33.782851Z"
    }
   },
   "outputs": [
    {
     "data": {
      "text/html": [
       "<div>\n",
       "<style scoped>\n",
       "    .dataframe tbody tr th:only-of-type {\n",
       "        vertical-align: middle;\n",
       "    }\n",
       "\n",
       "    .dataframe tbody tr th {\n",
       "        vertical-align: top;\n",
       "    }\n",
       "\n",
       "    .dataframe thead th {\n",
       "        text-align: right;\n",
       "    }\n",
       "</style>\n",
       "<table border=\"1\" class=\"dataframe\">\n",
       "  <thead>\n",
       "    <tr style=\"text-align: right;\">\n",
       "      <th></th>\n",
       "      <th>count</th>\n",
       "      <th>mean</th>\n",
       "      <th>sum</th>\n",
       "    </tr>\n",
       "    <tr>\n",
       "      <th>year</th>\n",
       "      <th></th>\n",
       "      <th></th>\n",
       "      <th></th>\n",
       "    </tr>\n",
       "  </thead>\n",
       "  <tbody>\n",
       "    <tr>\n",
       "      <th>1994</th>\n",
       "      <td>4330</td>\n",
       "      <td>0.012933</td>\n",
       "      <td>56</td>\n",
       "    </tr>\n",
       "    <tr>\n",
       "      <th>2002</th>\n",
       "      <td>4255</td>\n",
       "      <td>0.013161</td>\n",
       "      <td>56</td>\n",
       "    </tr>\n",
       "    <tr>\n",
       "      <th>2001</th>\n",
       "      <td>4205</td>\n",
       "      <td>0.014744</td>\n",
       "      <td>62</td>\n",
       "    </tr>\n",
       "    <tr>\n",
       "      <th>2004</th>\n",
       "      <td>3934</td>\n",
       "      <td>0.015506</td>\n",
       "      <td>61</td>\n",
       "    </tr>\n",
       "    <tr>\n",
       "      <th>1999</th>\n",
       "      <td>4260</td>\n",
       "      <td>0.015962</td>\n",
       "      <td>68</td>\n",
       "    </tr>\n",
       "    <tr>\n",
       "      <th>2000</th>\n",
       "      <td>4352</td>\n",
       "      <td>0.016544</td>\n",
       "      <td>72</td>\n",
       "    </tr>\n",
       "    <tr>\n",
       "      <th>1995</th>\n",
       "      <td>4367</td>\n",
       "      <td>0.019006</td>\n",
       "      <td>83</td>\n",
       "    </tr>\n",
       "    <tr>\n",
       "      <th>2008</th>\n",
       "      <td>4366</td>\n",
       "      <td>0.023591</td>\n",
       "      <td>103</td>\n",
       "    </tr>\n",
       "    <tr>\n",
       "      <th>2007</th>\n",
       "      <td>4364</td>\n",
       "      <td>0.026123</td>\n",
       "      <td>114</td>\n",
       "    </tr>\n",
       "    <tr>\n",
       "      <th>1997</th>\n",
       "      <td>4195</td>\n",
       "      <td>0.026460</td>\n",
       "      <td>111</td>\n",
       "    </tr>\n",
       "    <tr>\n",
       "      <th>2006</th>\n",
       "      <td>4362</td>\n",
       "      <td>0.027740</td>\n",
       "      <td>121</td>\n",
       "    </tr>\n",
       "    <tr>\n",
       "      <th>1993</th>\n",
       "      <td>4357</td>\n",
       "      <td>0.028230</td>\n",
       "      <td>123</td>\n",
       "    </tr>\n",
       "    <tr>\n",
       "      <th>2005</th>\n",
       "      <td>4335</td>\n",
       "      <td>0.028374</td>\n",
       "      <td>123</td>\n",
       "    </tr>\n",
       "    <tr>\n",
       "      <th>2003</th>\n",
       "      <td>4263</td>\n",
       "      <td>0.028384</td>\n",
       "      <td>121</td>\n",
       "    </tr>\n",
       "    <tr>\n",
       "      <th>1996</th>\n",
       "      <td>4296</td>\n",
       "      <td>0.030028</td>\n",
       "      <td>129</td>\n",
       "    </tr>\n",
       "    <tr>\n",
       "      <th>1998</th>\n",
       "      <td>4375</td>\n",
       "      <td>0.034514</td>\n",
       "      <td>151</td>\n",
       "    </tr>\n",
       "    <tr>\n",
       "      <th>2013</th>\n",
       "      <td>4380</td>\n",
       "      <td>0.036073</td>\n",
       "      <td>158</td>\n",
       "    </tr>\n",
       "    <tr>\n",
       "      <th>2009</th>\n",
       "      <td>4363</td>\n",
       "      <td>0.038964</td>\n",
       "      <td>170</td>\n",
       "    </tr>\n",
       "    <tr>\n",
       "      <th>2012</th>\n",
       "      <td>4344</td>\n",
       "      <td>0.039595</td>\n",
       "      <td>172</td>\n",
       "    </tr>\n",
       "    <tr>\n",
       "      <th>2010</th>\n",
       "      <td>4369</td>\n",
       "      <td>0.049210</td>\n",
       "      <td>215</td>\n",
       "    </tr>\n",
       "    <tr>\n",
       "      <th>2011</th>\n",
       "      <td>4376</td>\n",
       "      <td>0.052331</td>\n",
       "      <td>229</td>\n",
       "    </tr>\n",
       "  </tbody>\n",
       "</table>\n",
       "</div>"
      ],
      "text/plain": [
       "      count      mean  sum\n",
       "year                      \n",
       "1994   4330  0.012933   56\n",
       "2002   4255  0.013161   56\n",
       "2001   4205  0.014744   62\n",
       "2004   3934  0.015506   61\n",
       "1999   4260  0.015962   68\n",
       "2000   4352  0.016544   72\n",
       "1995   4367  0.019006   83\n",
       "2008   4366  0.023591  103\n",
       "2007   4364  0.026123  114\n",
       "1997   4195  0.026460  111\n",
       "2006   4362  0.027740  121\n",
       "1993   4357  0.028230  123\n",
       "2005   4335  0.028374  123\n",
       "2003   4263  0.028384  121\n",
       "1996   4296  0.030028  129\n",
       "1998   4375  0.034514  151\n",
       "2013   4380  0.036073  158\n",
       "2009   4363  0.038964  170\n",
       "2012   4344  0.039595  172\n",
       "2010   4369  0.049210  215\n",
       "2011   4376  0.052331  229"
      ]
     },
     "execution_count": 8,
     "metadata": {},
     "output_type": "execute_result"
    }
   ],
   "source": [
    "df_full[\"year\"] = df_full[\"t\"].apply(lambda t: int(t[:4]))\n",
    "df_full.groupby(\"year\")[\"anomaly\"].agg([\"count\", \"mean\", \"sum\"]).sort_values(\"mean\")                         "
   ]
  },
  {
   "cell_type": "code",
   "execution_count": 9,
   "id": "bab48c55-4db8-4201-88c8-da86ab3be500",
   "metadata": {
    "execution": {
     "iopub.execute_input": "2025-02-12T10:17:34.601366Z",
     "iopub.status.busy": "2025-02-12T10:17:34.600894Z",
     "iopub.status.idle": "2025-02-12T10:17:34.611358Z",
     "shell.execute_reply": "2025-02-12T10:17:34.608902Z",
     "shell.execute_reply.started": "2025-02-12T10:17:34.601326Z"
    }
   },
   "outputs": [
    {
     "name": "stdout",
     "output_type": "stream",
     "text": [
      "['Atlantic City', 'Baltimore', 'Eastport', 'Fort Pulaski', 'Lewes', 'New London', 'Newport', 'Portland', 'Sandy Hook', 'Sewells Point', 'The Battery', 'Washington']\n"
     ]
    }
   ],
   "source": [
    "locations = [\n",
    "    \"Date\",\n",
    "    \"Average_SLA\",\n",
    "    \"Atlantic City\",\n",
    "    \"Baltimore\",\n",
    "    \"Eastport\",\n",
    "    \"Fort Pulaski\",\n",
    "    \"Lewes\",\n",
    "    \"New London\",\n",
    "    \"Newport\",\n",
    "    \"Portland\",\n",
    "    \"Sandy Hook\",\n",
    "    \"Sewells Point\",\n",
    "    \"The Battery\",\n",
    "    \"Washington\",\n",
    "][2:]\n",
    "print(locations)"
   ]
  },
  {
   "cell_type": "code",
   "execution_count": 10,
   "id": "25a2f87a-971d-4a18-8156-a83a73a1bc9a",
   "metadata": {
    "execution": {
     "iopub.execute_input": "2025-02-12T10:17:35.163314Z",
     "iopub.status.busy": "2025-02-12T10:17:35.162197Z",
     "iopub.status.idle": "2025-02-12T10:18:39.099262Z",
     "shell.execute_reply": "2025-02-12T10:18:39.098205Z",
     "shell.execute_reply.started": "2025-02-12T10:17:35.163249Z"
    }
   },
   "outputs": [
    {
     "name": "stdout",
     "output_type": "stream",
     "text": [
      "7302\n"
     ]
    },
    {
     "name": "stderr",
     "output_type": "stream",
     "text": [
      "100%|██████████████████████████████████████| 7302/7302 [01:03<00:00, 114.32it/s]\n"
     ]
    },
    {
     "data": {
      "text/plain": [
       "7302"
      ]
     },
     "execution_count": 10,
     "metadata": {},
     "output_type": "execute_result"
    }
   ],
   "source": [
    "filenames = glob.glob(f\"{satelite_dir}/*.nc\")\n",
    "print(len(filenames))\n",
    "\n",
    "dict_sla = {}\n",
    "for filename in tqdm(filenames):\n",
    "    date_str = filename.split(\"/\")[-1].split(\".\")[0].split(\"_\")[2] # dt_ena_19930101_vDT2021.nc\"\n",
    "    if len(date_str) != 8:\n",
    "        continue\n",
    "    formatted_date = f\"{date_str[:4]}-{date_str[4:6]}-{date_str[6:8]}\"\n",
    "\n",
    "    nc_filename = filename\n",
    "    \n",
    "    dataset = netCDF4.Dataset(nc_filename, mode=\"r\")\n",
    "    sla = dataset.variables[\"sla\"][:]\n",
    "    sla = np.ma.getdata(sla[0, :, :].filled(0))\n",
    "    dict_sla[formatted_date] = sla\n",
    "\n",
    "    dataset.close()\n",
    "len(dict_sla)"
   ]
  },
  {
   "cell_type": "code",
   "execution_count": 11,
   "id": "3f97da45-d02a-4312-b9fb-fcca84e71c2f",
   "metadata": {
    "execution": {
     "iopub.execute_input": "2025-02-12T10:18:39.101123Z",
     "iopub.status.busy": "2025-02-12T10:18:39.100806Z",
     "iopub.status.idle": "2025-02-12T10:18:39.108971Z",
     "shell.execute_reply": "2025-02-12T10:18:39.108065Z",
     "shell.execute_reply.started": "2025-02-12T10:18:39.101090Z"
    }
   },
   "outputs": [
    {
     "name": "stdout",
     "output_type": "stream",
     "text": [
      "7302 ['1993-01-01', '1993-01-02', '1993-01-03'] ['2013-12-29', '2013-12-30', '2013-12-31']\n"
     ]
    }
   ],
   "source": [
    "dates = list(dict_sla.keys())\n",
    "dates.sort()\n",
    "print(len(dates), dates[:3], dates[-3:])"
   ]
  },
  {
   "cell_type": "code",
   "execution_count": 12,
   "id": "2daa98bf-cc5f-456d-b46a-a6a8281dbc32",
   "metadata": {
    "execution": {
     "iopub.execute_input": "2025-02-12T10:18:39.110438Z",
     "iopub.status.busy": "2025-02-12T10:18:39.110037Z",
     "iopub.status.idle": "2025-02-12T10:18:39.136788Z",
     "shell.execute_reply": "2025-02-12T10:18:39.135496Z",
     "shell.execute_reply.started": "2025-02-12T10:18:39.110405Z"
    }
   },
   "outputs": [
    {
     "name": "stdout",
     "output_type": "stream",
     "text": [
      "(100, 160) (11, 11)\n",
      "(100, 160)\n"
     ]
    },
    {
     "data": {
      "text/plain": [
       "array([[ 0.    ,  0.    ,  0.    , -0.0195, -0.0245, -0.0204, -0.0118,\n",
       "         0.    ,  0.0127,  0.0235,  0.0292],\n",
       "       [ 0.    ,  0.    , -0.0173, -0.0157, -0.0197, -0.0251, -0.0305,\n",
       "        -0.025 , -0.0001,  0.029 ,  0.045 ],\n",
       "       [ 0.    ,  0.    ,  0.    , -0.019 , -0.0162, -0.0268, -0.0362,\n",
       "        -0.0282, -0.0114,  0.016 ,  0.038 ],\n",
       "       [ 0.    ,  0.    ,  0.    , -0.0142, -0.0128, -0.0228, -0.036 ,\n",
       "        -0.0271, -0.0184, -0.0039, -0.0034],\n",
       "       [ 0.    ,  0.    ,  0.    ,  0.    , -0.0039, -0.0206, -0.0248,\n",
       "        -0.0315, -0.0382, -0.0372, -0.033 ],\n",
       "       [ 0.    ,  0.    ,  0.    ,  0.    ,  0.    , -0.0259, -0.0245,\n",
       "        -0.0213, -0.0208, -0.0418, -0.0426],\n",
       "       [ 0.    ,  0.    ,  0.    ,  0.    ,  0.    , -0.0031,  0.0283,\n",
       "        -0.0062, -0.0147, -0.0205, -0.0213],\n",
       "       [ 0.    ,  0.    ,  0.    ,  0.    ,  0.    ,  0.    ,  0.    ,\n",
       "        -0.0028, -0.0072, -0.0016,  0.0103],\n",
       "       [ 0.    ,  0.    ,  0.    ,  0.    ,  0.    ,  0.    ,  0.    ,\n",
       "         0.    ,  0.    ,  0.0078,  0.0221],\n",
       "       [ 0.    ,  0.    ,  0.    ,  0.    ,  0.    ,  0.    ,  0.    ,\n",
       "         0.    ,  0.    ,  0.    ,  0.    ],\n",
       "       [ 0.    ,  0.    ,  0.    ,  0.    ,  0.    ,  0.    ,  0.    ,\n",
       "         0.    ,  0.    ,  0.    ,  0.    ]])"
      ]
     },
     "execution_count": 12,
     "metadata": {},
     "output_type": "execute_result"
    }
   ],
   "source": [
    "cities_coordinates = {\n",
    "    \"Atlantic City\": {\"latitude\": 39.3643, \"longitude\": -74.4229},\n",
    "    \"Baltimore\": {\"latitude\": 39.2904, \"longitude\": -76.6122},\n",
    "    \"Eastport\": {\"latitude\": 44.9034, \"longitude\": -66.9895},\n",
    "    \"Fort Pulaski\": {\"latitude\": 32.0317, \"longitude\": -80.8970},\n",
    "    \"Lewes\": {\"latitude\": 38.7746, \"longitude\": -75.1394},\n",
    "    \"New London\": {\"latitude\": 41.3557, \"longitude\": -72.0995},\n",
    "    \"Newport\": {\"latitude\": 41.4901, \"longitude\": -71.3128},\n",
    "    \"Portland\": {\"latitude\": 43.6591, \"longitude\": -70.2568},\n",
    "    \"Sandy Hook\": {\"latitude\": 40.4649, \"longitude\": -74.0054},\n",
    "    \"Sewells Point\": {\"latitude\": 36.9463, \"longitude\": -76.3297},\n",
    "    \"The Battery\": {\"latitude\": 40.7033, \"longitude\": -74.0170},\n",
    "    \"Washington\": {\"latitude\": 38.9072, \"longitude\": -77.0369},\n",
    "}\n",
    "\n",
    "# 100 160\n",
    "cities_indexes = {\n",
    "    'Atlantic City': {'latitude': (55, 60), 'longitude': (100, 105)},\n",
    "    'Baltimore': {'latitude': (55, 60), 'longitude': (91, 96)},\n",
    "    'Eastport': {'latitude': (77, 82), 'longitude': (130, 135)},\n",
    "    'Fort Pulaski': {'latitude': (26, 31), 'longitude': (74, 79)},\n",
    "    'Lewes': {'latitude': (53, 58), 'longitude': (97, 102)},\n",
    "    'New London': {'latitude': (63, 68), 'longitude': (109, 114)},\n",
    "    'Newport': {'latitude': (63, 68), 'longitude': (112, 117)},\n",
    "    'Portland': {'latitude': (72, 77), 'longitude': (116, 121)},\n",
    "    'Sandy Hook': {'latitude': (59, 64), 'longitude': (101, 106)},\n",
    "    'Sewells Point': {'latitude': (45, 50), 'longitude': (92, 97)},\n",
    "    'The Battery': {'latitude': (60, 65), 'longitude': (101, 106)},\n",
    "    'Washington': {'latitude': (53, 58), 'longitude': (89, 94)}\n",
    "}\n",
    "\n",
    "def get_features_row(row, verbose=False, margin = 3):\n",
    "    sla = dict_sla[row[\"t\"]]\n",
    "    indexes = cities_indexes[row[\"location\"]]\n",
    "    latitude = indexes[\"latitude\"]\n",
    "    longitude = indexes[\"longitude\"]\n",
    "\n",
    "    sla_row = sla[latitude[0] - margin : latitude[1] + margin, longitude[0] - margin : longitude[1] + margin]\n",
    "    if verbose:\n",
    "        print(sla.shape, sla_row.shape)\n",
    "        print(sla.shape)\n",
    "\n",
    "    return sla_row\n",
    "\n",
    "get_features_row(df_full.iloc[0], verbose=True)"
   ]
  },
  {
   "cell_type": "code",
   "execution_count": 13,
   "id": "928ef1dc-9b7c-42b7-9c47-80a1d4408e73",
   "metadata": {
    "execution": {
     "iopub.execute_input": "2025-02-12T10:18:39.139401Z",
     "iopub.status.busy": "2025-02-12T10:18:39.139082Z",
     "iopub.status.idle": "2025-02-12T10:18:39.164518Z",
     "shell.execute_reply": "2025-02-12T10:18:39.163517Z",
     "shell.execute_reply.started": "2025-02-12T10:18:39.139367Z"
    }
   },
   "outputs": [
    {
     "name": "stdout",
     "output_type": "stream",
     "text": [
      "anomaly\n",
      "0    87950\n",
      "1     2498\n",
      "Name: count, dtype: int64\n"
     ]
    },
    {
     "data": {
      "text/plain": [
       "anomaly\n",
       "0    0.972382\n",
       "1    0.027618\n",
       "Name: proportion, dtype: float64"
      ]
     },
     "execution_count": 13,
     "metadata": {},
     "output_type": "execute_result"
    }
   ],
   "source": [
    "def sampling(df, target_ratio=0.02, target_col=\"anomaly\"):\n",
    "    if df[target_col].mean() >= target_ratio:\n",
    "        return df.copy()\n",
    "    \n",
    "    df_pos = df[df[target_col] == 1].copy()\n",
    "    df_neg = df[df[target_col] != 1].copy().sample(frac=1, random_state=seed).reset_index(drop=True)\n",
    "\n",
    "    nb_neg = int( (df_pos.shape[0])*(1-target_ratio) / target_ratio)\n",
    "    df_com = pd.concat([df_pos, df_neg.head(nb_neg)]).sample(frac=1, random_state=seed).reset_index(drop=True)\n",
    "    return df_com\n",
    "\n",
    "df_com = sampling(df_full)\n",
    "print(df_com[\"anomaly\"].value_counts())\n",
    "df_com[\"anomaly\"].value_counts(normalize=True)"
   ]
  },
  {
   "cell_type": "code",
   "execution_count": null,
   "id": "47ebe3db-13ac-4311-bdba-b8297b23e7c8",
   "metadata": {
    "execution": {
     "iopub.execute_input": "2025-02-12T10:18:39.166048Z",
     "iopub.status.busy": "2025-02-12T10:18:39.165732Z"
    }
   },
   "outputs": [
    {
     "name": "stdout",
     "output_type": "stream",
     "text": [
      "run_folds: [-1]\n",
      "run_margins: [3, 5, 7, 10, 15, 20]\n",
      "========================================\n",
      "========================================\n",
      "Atlantic City (7063, 7) 0.04289961772617868\n",
      "========================================\n",
      "Processing margin 3 city Atlantic City  fold -1 ... \n"
     ]
    },
    {
     "name": "stderr",
     "output_type": "stream",
     "text": [
      "7063it [00:00, 7742.01it/s]\n",
      "7063it [00:00, 7848.18it/s]\n"
     ]
    },
    {
     "name": "stdout",
     "output_type": "stream",
     "text": [
      "(7063, 121) (7063, 121) 0.04289961772617868 0.04289961772617868\n"
     ]
    },
    {
     "name": "stderr",
     "output_type": "stream",
     "text": [
      "/home/moto/miniconda3/envs/py39/lib/python3.9/site-packages/sklearn/ensemble/_forest.py:615: UserWarning: Some inputs do not have OOB scores. This probably means too few trees were used to compute any reliable OOB estimates.\n",
      "  warn(\n"
     ]
    },
    {
     "name": "stdout",
     "output_type": "stream",
     "text": [
      "Adding/Training Layer, n_layer=1\n",
      "Layer validation accuracy = 0.9518754423213022\n",
      "Adding/Training Layer, n_layer=2\n",
      "Layer validation accuracy = 0.9532908704883227\n",
      "Adding/Training Layer, n_layer=3\n",
      "Layer validation accuracy = 0.9525831564048125\n",
      "F1: 0.9064748201438849, ACC: 0.9926376893671245, AUC: 0.9999492256917999\n",
      "========================================\n",
      "========================================\n",
      "Baltimore (7286, 7) 0.023744166895415867\n",
      "========================================\n",
      "Processing margin 3 city Baltimore  fold -1 ... \n"
     ]
    },
    {
     "name": "stderr",
     "output_type": "stream",
     "text": [
      "7286it [00:00, 8035.94it/s]\n",
      "7286it [00:00, 8002.81it/s]\n"
     ]
    },
    {
     "name": "stdout",
     "output_type": "stream",
     "text": [
      "(7286, 121) (7286, 121) 0.023744166895415867 0.023744166895415867\n"
     ]
    },
    {
     "name": "stderr",
     "output_type": "stream",
     "text": [
      "/home/moto/miniconda3/envs/py39/lib/python3.9/site-packages/sklearn/ensemble/_forest.py:615: UserWarning: Some inputs do not have OOB scores. This probably means too few trees were used to compute any reliable OOB estimates.\n",
      "  warn(\n"
     ]
    },
    {
     "name": "stdout",
     "output_type": "stream",
     "text": [
      "Adding/Training Layer, n_layer=1\n",
      "Layer validation accuracy = 0.9739368998628258\n",
      "Adding/Training Layer, n_layer=2\n",
      "Layer validation accuracy = 0.9739368998628258\n",
      "F1: -1, ACC: 0.9762558331045841, AUC: -1\n",
      "========================================\n",
      "========================================\n",
      "Eastport (7127, 7) 0.06159674477339694\n",
      "========================================\n",
      "Processing margin 3 city Eastport  fold -1 ... \n"
     ]
    },
    {
     "name": "stderr",
     "output_type": "stream",
     "text": [
      "7127it [00:00, 10264.28it/s]\n",
      "7127it [00:00, 10339.95it/s]\n"
     ]
    },
    {
     "name": "stdout",
     "output_type": "stream",
     "text": [
      "(7127, 121) (7127, 121) 0.06159674477339694 0.06159674477339694\n"
     ]
    },
    {
     "name": "stderr",
     "output_type": "stream",
     "text": [
      "/home/moto/miniconda3/envs/py39/lib/python3.9/site-packages/sklearn/ensemble/_forest.py:615: UserWarning: Some inputs do not have OOB scores. This probably means too few trees were used to compute any reliable OOB estimates.\n",
      "  warn(\n"
     ]
    },
    {
     "name": "stdout",
     "output_type": "stream",
     "text": [
      "Adding/Training Layer, n_layer=1\n",
      "Layer validation accuracy = 0.9453015427769986\n",
      "Adding/Training Layer, n_layer=2\n",
      "Layer validation accuracy = 0.9438990182328191\n",
      "F1: 0.996594778660613, ACC: 0.9995790655254665, AUC: 0.9999986376170287\n",
      "========================================\n",
      "========================================\n",
      "Fort Pulaski (7262, 7) 0.014596529881575324\n",
      "========================================\n",
      "Processing margin 3 city Fort Pulaski  fold -1 ... \n"
     ]
    },
    {
     "name": "stderr",
     "output_type": "stream",
     "text": [
      "7262it [00:00, 9792.92it/s]\n",
      "7262it [00:00, 9946.95it/s] \n"
     ]
    },
    {
     "name": "stdout",
     "output_type": "stream",
     "text": [
      "(7262, 121) (7262, 121) 0.014596529881575324 0.014596529881575324\n"
     ]
    },
    {
     "name": "stderr",
     "output_type": "stream",
     "text": [
      "/home/moto/miniconda3/envs/py39/lib/python3.9/site-packages/sklearn/ensemble/_forest.py:615: UserWarning: Some inputs do not have OOB scores. This probably means too few trees were used to compute any reliable OOB estimates.\n",
      "  warn(\n"
     ]
    },
    {
     "name": "stdout",
     "output_type": "stream",
     "text": [
      "Adding/Training Layer, n_layer=1\n",
      "Layer validation accuracy = 0.9862353750860289\n",
      "Adding/Training Layer, n_layer=2\n",
      "Layer validation accuracy = 0.9869236063317275\n",
      "Adding/Training Layer, n_layer=3\n",
      "Layer validation accuracy = 0.9869236063317275\n",
      "F1: 0.8601036269430051, ACC: 0.996282015973561, AUC: 0.9996822827130155\n",
      "========================================\n",
      "========================================\n",
      "Lewes (7271, 7) 0.040984733874295146\n",
      "========================================\n",
      "Processing margin 3 city Lewes  fold -1 ... \n"
     ]
    },
    {
     "name": "stderr",
     "output_type": "stream",
     "text": [
      "7271it [00:00, 10141.67it/s]\n",
      "7271it [00:00, 10168.11it/s]\n"
     ]
    },
    {
     "name": "stdout",
     "output_type": "stream",
     "text": [
      "(7271, 121) (7271, 121) 0.040984733874295146 0.040984733874295146\n"
     ]
    },
    {
     "name": "stderr",
     "output_type": "stream",
     "text": [
      "/home/moto/miniconda3/envs/py39/lib/python3.9/site-packages/sklearn/ensemble/_forest.py:615: UserWarning: Some inputs do not have OOB scores. This probably means too few trees were used to compute any reliable OOB estimates.\n",
      "  warn(\n"
     ]
    },
    {
     "name": "stdout",
     "output_type": "stream",
     "text": [
      "Adding/Training Layer, n_layer=1\n",
      "Layer validation accuracy = 0.9690721649484536\n",
      "Adding/Training Layer, n_layer=2\n",
      "Layer validation accuracy = 0.9690721649484536\n",
      "F1: 0.9726027397260274, ACC: 0.9977994773758768, AUC: 0.9999364759758879\n",
      "========================================\n",
      "========================================\n",
      "New London (7240, 7) 0.004281767955801105\n",
      "========================================\n",
      "Processing margin 3 city New London  fold -1 ... \n"
     ]
    },
    {
     "name": "stderr",
     "output_type": "stream",
     "text": [
      "7240it [00:00, 9444.31it/s] \n",
      "7240it [00:00, 8305.02it/s]\n"
     ]
    },
    {
     "name": "stdout",
     "output_type": "stream",
     "text": [
      "(7240, 121) (7240, 121) 0.004281767955801105 0.004281767955801105\n"
     ]
    },
    {
     "name": "stderr",
     "output_type": "stream",
     "text": [
      "/home/moto/miniconda3/envs/py39/lib/python3.9/site-packages/sklearn/ensemble/_forest.py:615: UserWarning: Some inputs do not have OOB scores. This probably means too few trees were used to compute any reliable OOB estimates.\n",
      "  warn(\n"
     ]
    },
    {
     "name": "stdout",
     "output_type": "stream",
     "text": [
      "Adding/Training Layer, n_layer=1\n",
      "Layer validation accuracy = 0.9924033149171271\n",
      "Adding/Training Layer, n_layer=2\n",
      "Layer validation accuracy = 0.9924033149171271\n",
      "F1: -1, ACC: 0.9957182320441988, AUC: -1\n",
      "========================================\n",
      "========================================\n",
      "Newport (7255, 7) 0.0005513439007580978\n",
      "========================================\n",
      "Processing margin 3 city Newport  fold -1 ... \n"
     ]
    },
    {
     "name": "stderr",
     "output_type": "stream",
     "text": [
      "7255it [00:00, 9382.53it/s] \n",
      "7255it [00:00, 8386.78it/s]\n"
     ]
    },
    {
     "name": "stdout",
     "output_type": "stream",
     "text": [
      "(7255, 121) (7255, 121) 0.0005513439007580978 0.0005513439007580978\n",
      "Adding/Training Layer, n_layer=1\n",
      "Layer validation accuracy = 1.0\n",
      "Adding/Training Layer, n_layer=2\n",
      "Layer validation accuracy = 1.0\n",
      "F1: 1.0, ACC: 1.0, AUC: 1.0\n",
      "========================================\n",
      "========================================\n",
      "Portland (7254, 7) 0.011717673007995588\n",
      "========================================\n",
      "Processing margin 3 city Portland  fold -1 ... \n"
     ]
    },
    {
     "name": "stderr",
     "output_type": "stream",
     "text": [
      "7254it [00:00, 9928.40it/s] \n",
      "7254it [00:00, 10287.27it/s]\n"
     ]
    },
    {
     "name": "stdout",
     "output_type": "stream",
     "text": [
      "(7254, 121) (7254, 121) 0.011717673007995588 0.011717673007995588\n"
     ]
    },
    {
     "name": "stderr",
     "output_type": "stream",
     "text": [
      "/home/moto/miniconda3/envs/py39/lib/python3.9/site-packages/sklearn/ensemble/_forest.py:615: UserWarning: Some inputs do not have OOB scores. This probably means too few trees were used to compute any reliable OOB estimates.\n",
      "  warn(\n"
     ]
    },
    {
     "name": "stdout",
     "output_type": "stream",
     "text": [
      "Adding/Training Layer, n_layer=1\n",
      "Layer validation accuracy = 0.9917298414886285\n",
      "Adding/Training Layer, n_layer=2\n",
      "Layer validation accuracy = 0.9917298414886285\n",
      "F1: -1, ACC: 0.9882823269920044, AUC: -1\n",
      "========================================\n",
      "========================================\n",
      "Sandy Hook (7202, 7) 0.045404054429325186\n",
      "========================================\n",
      "Processing margin 3 city Sandy Hook  fold -1 ... \n"
     ]
    },
    {
     "name": "stderr",
     "output_type": "stream",
     "text": [
      "7202it [00:00, 9966.88it/s] \n",
      "7202it [00:00, 10267.12it/s]\n"
     ]
    },
    {
     "name": "stdout",
     "output_type": "stream",
     "text": [
      "(7202, 121) (7202, 121) 0.045404054429325186 0.045404054429325186\n"
     ]
    },
    {
     "name": "stderr",
     "output_type": "stream",
     "text": [
      "/home/moto/miniconda3/envs/py39/lib/python3.9/site-packages/sklearn/ensemble/_forest.py:615: UserWarning: Some inputs do not have OOB scores. This probably means too few trees were used to compute any reliable OOB estimates.\n",
      "  warn(\n"
     ]
    },
    {
     "name": "stdout",
     "output_type": "stream",
     "text": [
      "Adding/Training Layer, n_layer=1\n",
      "Layer validation accuracy = 0.9590562109646079\n",
      "Adding/Training Layer, n_layer=2\n",
      "Layer validation accuracy = 0.9597501734906315\n",
      "Adding/Training Layer, n_layer=3\n",
      "Layer validation accuracy = 0.9590562109646079\n",
      "F1: 0.9619047619047619, ACC: 0.9966675923354624, AUC: 0.9999964414790103\n",
      "========================================\n",
      "========================================\n",
      "Sewells Point (7290, 7) 0.015363511659807956\n",
      "========================================\n",
      "Processing margin 3 city Sewells Point  fold -1 ... \n"
     ]
    },
    {
     "name": "stderr",
     "output_type": "stream",
     "text": [
      "7290it [00:00, 10152.11it/s]\n",
      "7290it [00:00, 10090.68it/s]\n"
     ]
    },
    {
     "name": "stdout",
     "output_type": "stream",
     "text": [
      "(7290, 121) (7290, 121) 0.015363511659807956 0.015363511659807956\n"
     ]
    },
    {
     "name": "stderr",
     "output_type": "stream",
     "text": [
      "/home/moto/miniconda3/envs/py39/lib/python3.9/site-packages/sklearn/ensemble/_forest.py:615: UserWarning: Some inputs do not have OOB scores. This probably means too few trees were used to compute any reliable OOB estimates.\n",
      "  warn(\n",
      "/home/moto/miniconda3/envs/py39/lib/python3.9/site-packages/sklearn/ensemble/_forest.py:615: UserWarning: Some inputs do not have OOB scores. This probably means too few trees were used to compute any reliable OOB estimates.\n",
      "  warn(\n"
     ]
    },
    {
     "name": "stdout",
     "output_type": "stream",
     "text": [
      "Adding/Training Layer, n_layer=1\n",
      "Layer validation accuracy = 0.9890260631001372\n",
      "Adding/Training Layer, n_layer=2\n",
      "Layer validation accuracy = 0.9890260631001372\n",
      "F1: 0.7486033519553073, ACC: 0.9938271604938271, AUC: 0.9999776101580224\n",
      "========================================\n",
      "========================================\n",
      "The Battery (6892, 7) 0.007254788160185722\n",
      "========================================\n",
      "Processing margin 3 city The Battery  fold -1 ... \n"
     ]
    },
    {
     "name": "stderr",
     "output_type": "stream",
     "text": [
      "6892it [00:00, 9967.40it/s] \n",
      "6892it [00:00, 10054.98it/s]\n"
     ]
    },
    {
     "name": "stdout",
     "output_type": "stream",
     "text": [
      "(6892, 121) (6892, 121) 0.007254788160185722 0.007254788160185722\n",
      "Adding/Training Layer, n_layer=1\n",
      "Layer validation accuracy = 0.9927483683828862\n",
      "Adding/Training Layer, n_layer=2\n",
      "Layer validation accuracy = 0.9927483683828862\n",
      "F1: 0.9900990099009901, ACC: 0.9998549042367962, AUC: 0.9999590762934815\n",
      "========================================\n",
      "========================================\n",
      "Washington (6912, 7) 0.06336805555555555\n",
      "========================================\n",
      "Processing margin 3 city Washington  fold -1 ... \n"
     ]
    },
    {
     "name": "stderr",
     "output_type": "stream",
     "text": [
      "6912it [00:00, 9298.83it/s] \n",
      "6912it [00:00, 9447.67it/s]\n"
     ]
    },
    {
     "name": "stdout",
     "output_type": "stream",
     "text": [
      "(6912, 121) (6912, 121) 0.06336805555555555 0.06336805555555555\n",
      "Adding/Training Layer, n_layer=1\n",
      "Layer validation accuracy = 0.9443239334779465\n",
      "Adding/Training Layer, n_layer=2\n",
      "Layer validation accuracy = 0.9443239334779465\n",
      "F1: 0.9476190476190476, ACC: 0.9936342592592593, AUC: 0.9996649753210242\n",
      "========================================\n",
      "========================================\n",
      "========================================\n",
      "Atlantic City (7063, 7) 0.04289961772617868\n",
      "========================================\n",
      "Processing margin 5 city Atlantic City  fold -1 ... \n"
     ]
    },
    {
     "name": "stderr",
     "output_type": "stream",
     "text": [
      "7063it [00:00, 9733.02it/s]\n",
      "7063it [00:00, 9894.01it/s]\n"
     ]
    },
    {
     "name": "stdout",
     "output_type": "stream",
     "text": [
      "(7063, 225) (7063, 225) 0.04289961772617868 0.04289961772617868\n"
     ]
    },
    {
     "name": "stderr",
     "output_type": "stream",
     "text": [
      "/home/moto/miniconda3/envs/py39/lib/python3.9/site-packages/sklearn/ensemble/_forest.py:615: UserWarning: Some inputs do not have OOB scores. This probably means too few trees were used to compute any reliable OOB estimates.\n",
      "  warn(\n"
     ]
    },
    {
     "name": "stdout",
     "output_type": "stream",
     "text": [
      "Adding/Training Layer, n_layer=1\n",
      "Layer validation accuracy = 0.9504600141542817\n",
      "Adding/Training Layer, n_layer=2\n",
      "Layer validation accuracy = 0.9504600141542817\n",
      "F1: 0.9916805324459235, ACC: 0.9992920855160696, AUC: 1.0\n",
      "========================================\n",
      "========================================\n",
      "Baltimore (7286, 7) 0.023744166895415867\n",
      "========================================\n",
      "Processing margin 5 city Baltimore  fold -1 ... \n"
     ]
    },
    {
     "name": "stderr",
     "output_type": "stream",
     "text": [
      "7286it [00:00, 10303.06it/s]\n",
      "7286it [00:00, 10206.58it/s]\n"
     ]
    },
    {
     "name": "stdout",
     "output_type": "stream",
     "text": [
      "(7286, 225) (7286, 225) 0.023744166895415867 0.023744166895415867\n",
      "Adding/Training Layer, n_layer=1\n",
      "Layer validation accuracy = 0.9787379972565158\n",
      "Adding/Training Layer, n_layer=2\n",
      "Layer validation accuracy = 0.9787379972565158\n",
      "F1: -1, ACC: 0.9762558331045841, AUC: -1\n",
      "========================================\n",
      "========================================\n",
      "Eastport (7127, 7) 0.06159674477339694\n",
      "========================================\n",
      "Processing margin 5 city Eastport  fold -1 ... \n"
     ]
    },
    {
     "name": "stderr",
     "output_type": "stream",
     "text": [
      "7127it [00:00, 9882.38it/s]\n",
      "7127it [00:00, 9946.01it/s] \n"
     ]
    },
    {
     "name": "stdout",
     "output_type": "stream",
     "text": [
      "(7127, 225) (7127, 225) 0.06159674477339694 0.06159674477339694\n",
      "Adding/Training Layer, n_layer=1\n",
      "Layer validation accuracy = 0.9474053295932678\n",
      "Adding/Training Layer, n_layer=2\n",
      "Layer validation accuracy = 0.9502103786816269\n",
      "Adding/Training Layer, n_layer=3\n",
      "Layer validation accuracy = 0.9481065918653576\n",
      "F1: 0.9932126696832579, ACC: 0.9991581310509331, AUC: 0.9997820187245915\n",
      "========================================\n",
      "========================================\n",
      "Fort Pulaski (7262, 7) 0.014596529881575324\n",
      "========================================\n",
      "Processing margin 5 city Fort Pulaski  fold -1 ... \n"
     ]
    },
    {
     "name": "stderr",
     "output_type": "stream",
     "text": [
      "7262it [00:00, 10136.73it/s]\n",
      "7262it [00:00, 10132.75it/s]\n"
     ]
    },
    {
     "name": "stdout",
     "output_type": "stream",
     "text": [
      "(7262, 225) (7262, 225) 0.014596529881575324 0.014596529881575324\n"
     ]
    },
    {
     "name": "stderr",
     "output_type": "stream",
     "text": [
      "/home/moto/miniconda3/envs/py39/lib/python3.9/site-packages/sklearn/ensemble/_forest.py:615: UserWarning: Some inputs do not have OOB scores. This probably means too few trees were used to compute any reliable OOB estimates.\n",
      "  warn(\n"
     ]
    },
    {
     "name": "stdout",
     "output_type": "stream",
     "text": [
      "Adding/Training Layer, n_layer=1\n",
      "Layer validation accuracy = 0.9848589125946318\n",
      "Adding/Training Layer, n_layer=2\n",
      "Layer validation accuracy = 0.9841706813489333\n",
      "F1: 0.7228915662650602, ACC: 0.9936656568438447, AUC: 0.9999920900260502\n",
      "========================================\n",
      "========================================\n",
      "Lewes (7271, 7) 0.040984733874295146\n",
      "========================================\n",
      "Processing margin 5 city Lewes  fold -1 ... \n"
     ]
    },
    {
     "name": "stderr",
     "output_type": "stream",
     "text": [
      "7271it [00:00, 7916.79it/s]\n",
      "7271it [00:00, 7849.42it/s]\n"
     ]
    },
    {
     "name": "stdout",
     "output_type": "stream",
     "text": [
      "(7271, 225) (7271, 225) 0.040984733874295146 0.040984733874295146\n"
     ]
    },
    {
     "name": "stderr",
     "output_type": "stream",
     "text": [
      "/home/moto/miniconda3/envs/py39/lib/python3.9/site-packages/sklearn/ensemble/_forest.py:615: UserWarning: Some inputs do not have OOB scores. This probably means too few trees were used to compute any reliable OOB estimates.\n",
      "  warn(\n"
     ]
    },
    {
     "name": "stdout",
     "output_type": "stream",
     "text": [
      "Adding/Training Layer, n_layer=1\n",
      "Layer validation accuracy = 0.9738831615120275\n",
      "Adding/Training Layer, n_layer=2\n",
      "Layer validation accuracy = 0.9738831615120275\n",
      "F1: 0.988155668358714, ACC: 0.9990372713519461, AUC: 0.9999764191122613\n",
      "========================================\n",
      "========================================\n",
      "New London (7240, 7) 0.004281767955801105\n",
      "========================================\n",
      "Processing margin 5 city New London  fold -1 ... \n"
     ]
    },
    {
     "name": "stderr",
     "output_type": "stream",
     "text": [
      "7240it [00:00, 7861.39it/s]\n",
      "7240it [00:00, 7863.59it/s]\n"
     ]
    },
    {
     "name": "stdout",
     "output_type": "stream",
     "text": [
      "(7240, 225) (7240, 225) 0.004281767955801105 0.004281767955801105\n",
      "Adding/Training Layer, n_layer=1\n",
      "Layer validation accuracy = 0.994475138121547\n",
      "Adding/Training Layer, n_layer=2\n",
      "Layer validation accuracy = 0.994475138121547\n",
      "F1: -1, ACC: 0.9957182320441988, AUC: -1\n",
      "========================================\n",
      "========================================\n",
      "Newport (7255, 7) 0.0005513439007580978\n",
      "========================================\n",
      "Processing margin 5 city Newport  fold -1 ... \n"
     ]
    },
    {
     "name": "stderr",
     "output_type": "stream",
     "text": [
      "7255it [00:00, 8090.50it/s]\n",
      "7255it [00:00, 7946.45it/s]\n"
     ]
    },
    {
     "name": "stdout",
     "output_type": "stream",
     "text": [
      "(7255, 225) (7255, 225) 0.0005513439007580978 0.0005513439007580978\n"
     ]
    },
    {
     "name": "stderr",
     "output_type": "stream",
     "text": [
      "/home/moto/miniconda3/envs/py39/lib/python3.9/site-packages/sklearn/ensemble/_forest.py:615: UserWarning: Some inputs do not have OOB scores. This probably means too few trees were used to compute any reliable OOB estimates.\n",
      "  warn(\n"
     ]
    },
    {
     "name": "stdout",
     "output_type": "stream",
     "text": [
      "Adding/Training Layer, n_layer=1\n",
      "Layer validation accuracy = 0.9993108201240524\n",
      "Adding/Training Layer, n_layer=2\n",
      "Layer validation accuracy = 0.9993108201240524\n",
      "F1: 1.0, ACC: 1.0, AUC: 1.0\n",
      "========================================\n",
      "========================================\n",
      "Portland (7254, 7) 0.011717673007995588\n",
      "========================================\n",
      "Processing margin 5 city Portland  fold -1 ... \n"
     ]
    },
    {
     "name": "stderr",
     "output_type": "stream",
     "text": [
      "7254it [00:00, 8100.88it/s]\n",
      "7254it [00:00, 7813.79it/s]\n"
     ]
    },
    {
     "name": "stdout",
     "output_type": "stream",
     "text": [
      "(7254, 225) (7254, 225) 0.011717673007995588 0.011717673007995588\n",
      "Adding/Training Layer, n_layer=1\n",
      "Layer validation accuracy = 0.9841488628532047\n",
      "Adding/Training Layer, n_layer=2\n",
      "Layer validation accuracy = 0.983459682977257\n",
      "F1: 1.0, ACC: 1.0, AUC: 1.0\n",
      "========================================\n",
      "========================================\n",
      "Sandy Hook (7202, 7) 0.045404054429325186\n",
      "========================================\n",
      "Processing margin 5 city Sandy Hook  fold -1 ... \n"
     ]
    },
    {
     "name": "stderr",
     "output_type": "stream",
     "text": [
      "7202it [00:00, 9953.51it/s] \n",
      "7202it [00:00, 9918.66it/s] \n"
     ]
    },
    {
     "name": "stdout",
     "output_type": "stream",
     "text": [
      "(7202, 225) (7202, 225) 0.045404054429325186 0.045404054429325186\n",
      "Adding/Training Layer, n_layer=1\n",
      "Layer validation accuracy = 0.9590562109646079\n",
      "Adding/Training Layer, n_layer=2\n",
      "Layer validation accuracy = 0.9611380985426787\n",
      "Adding/Training Layer, n_layer=3\n",
      "Layer validation accuracy = 0.9604441360166551\n",
      "F1: 0.9969512195121951, ACC: 0.9997222993612885, AUC: 1.0\n",
      "========================================\n",
      "========================================\n",
      "Sewells Point (7290, 7) 0.015363511659807956\n",
      "========================================\n",
      "Processing margin 5 city Sewells Point  fold -1 ... \n"
     ]
    },
    {
     "name": "stderr",
     "output_type": "stream",
     "text": [
      "7290it [00:00, 9758.41it/s]\n",
      "7290it [00:00, 9840.69it/s]\n"
     ]
    },
    {
     "name": "stdout",
     "output_type": "stream",
     "text": [
      "(7290, 225) (7290, 225) 0.015363511659807956 0.015363511659807956\n",
      "Adding/Training Layer, n_layer=1\n",
      "Layer validation accuracy = 0.9890260631001372\n",
      "Adding/Training Layer, n_layer=2\n",
      "Layer validation accuracy = 0.9890260631001372\n",
      "F1: 0.5732484076433121, ACC: 0.9908093278463649, AUC: 0.9998880507901127\n",
      "========================================\n",
      "========================================\n",
      "The Battery (6892, 7) 0.007254788160185722\n",
      "========================================\n",
      "Processing margin 5 city The Battery  fold -1 ... \n"
     ]
    },
    {
     "name": "stderr",
     "output_type": "stream",
     "text": [
      "6892it [00:00, 8046.25it/s]\n",
      "6892it [00:00, 8071.00it/s]\n"
     ]
    },
    {
     "name": "stdout",
     "output_type": "stream",
     "text": [
      "(6892, 225) (6892, 225) 0.007254788160185722 0.007254788160185722\n"
     ]
    },
    {
     "name": "stderr",
     "output_type": "stream",
     "text": [
      "/home/moto/miniconda3/envs/py39/lib/python3.9/site-packages/sklearn/ensemble/_forest.py:615: UserWarning: Some inputs do not have OOB scores. This probably means too few trees were used to compute any reliable OOB estimates.\n",
      "  warn(\n"
     ]
    },
    {
     "name": "stdout",
     "output_type": "stream",
     "text": [
      "Adding/Training Layer, n_layer=1\n",
      "Layer validation accuracy = 0.9927483683828862\n",
      "Adding/Training Layer, n_layer=2\n",
      "Layer validation accuracy = 0.994198694706309\n",
      "Adding/Training Layer, n_layer=3\n",
      "Layer validation accuracy = 0.9934735315445975\n",
      "F1: 1.0, ACC: 1.0, AUC: 1.0000000000000002\n",
      "========================================\n",
      "========================================\n",
      "Washington (6912, 7) 0.06336805555555555\n",
      "========================================\n",
      "Processing margin 5 city Washington  fold -1 ... \n"
     ]
    },
    {
     "name": "stderr",
     "output_type": "stream",
     "text": [
      "6912it [00:00, 8110.96it/s]\n",
      "6912it [00:00, 8056.58it/s]\n"
     ]
    },
    {
     "name": "stdout",
     "output_type": "stream",
     "text": [
      "(6912, 225) (6912, 225) 0.06336805555555555 0.06336805555555555\n"
     ]
    },
    {
     "name": "stderr",
     "output_type": "stream",
     "text": [
      "/home/moto/miniconda3/envs/py39/lib/python3.9/site-packages/sklearn/ensemble/_forest.py:615: UserWarning: Some inputs do not have OOB scores. This probably means too few trees were used to compute any reliable OOB estimates.\n",
      "  warn(\n"
     ]
    },
    {
     "name": "stdout",
     "output_type": "stream",
     "text": [
      "Adding/Training Layer, n_layer=1\n",
      "Layer validation accuracy = 0.9544468546637744\n",
      "Adding/Training Layer, n_layer=2\n",
      "Layer validation accuracy = 0.9537237888647867\n",
      "F1: 0.9840546697038725, ACC: 0.9979745370370371, AUC: 0.9999195940770458\n",
      "========================================\n",
      "========================================\n",
      "========================================\n",
      "Atlantic City (7063, 7) 0.04289961772617868\n",
      "========================================\n",
      "Processing margin 7 city Atlantic City  fold -1 ... \n"
     ]
    },
    {
     "name": "stderr",
     "output_type": "stream",
     "text": [
      "7063it [00:00, 7964.06it/s]\n",
      "7063it [00:00, 7979.43it/s]\n"
     ]
    },
    {
     "name": "stdout",
     "output_type": "stream",
     "text": [
      "(7063, 361) (7063, 361) 0.04289961772617868 0.04289961772617868\n"
     ]
    },
    {
     "name": "stderr",
     "output_type": "stream",
     "text": [
      "/home/moto/miniconda3/envs/py39/lib/python3.9/site-packages/sklearn/ensemble/_forest.py:615: UserWarning: Some inputs do not have OOB scores. This probably means too few trees were used to compute any reliable OOB estimates.\n",
      "  warn(\n"
     ]
    },
    {
     "name": "stdout",
     "output_type": "stream",
     "text": [
      "Adding/Training Layer, n_layer=1\n",
      "Layer validation accuracy = 0.9568294409058741\n",
      "Adding/Training Layer, n_layer=2\n",
      "Layer validation accuracy = 0.9568294409058741\n",
      "F1: 0.9983471074380166, ACC: 0.9998584171032139, AUC: 0.9999995117854981\n",
      "========================================\n",
      "========================================\n",
      "Baltimore (7286, 7) 0.023744166895415867\n",
      "========================================\n",
      "Processing margin 7 city Baltimore  fold -1 ... \n"
     ]
    },
    {
     "name": "stderr",
     "output_type": "stream",
     "text": [
      "7286it [00:00, 7891.17it/s]\n",
      "7286it [00:00, 7836.87it/s]\n"
     ]
    },
    {
     "name": "stdout",
     "output_type": "stream",
     "text": [
      "(7286, 361) (7286, 361) 0.023744166895415867 0.023744166895415867\n"
     ]
    }
   ],
   "source": [
    "city = locations[3]\n",
    "fold = 0\n",
    "dict_models = {}\n",
    "target_col = \"anomaly\"\n",
    "ignored_cities = [\"Newport\"]\n",
    "\n",
    "# if True:\n",
    "run_folds = [-1] # list(range(nb_folds)) + [-1]\n",
    "print(\"run_folds:\", run_folds)\n",
    "run_margins = [3, 5, 7, 10, 15, 20] # list(range(nb_folds)) + [-1]\n",
    "print(\"run_margins:\", run_margins)\n",
    "\n",
    "for margin in run_margins:\n",
    "    print(\"=\"*40)\n",
    "    dict_models[margin] = {}\n",
    "    \n",
    "    for city in locations:\n",
    "        print(\"=\"*40)\n",
    "        dict_models[margin][city] = {}\n",
    "        \n",
    "        df_folds = df_full[df_full[\"location\"] == city]\n",
    "        df_folds = df_folds[df_folds[\"t\"].isin(dates)].sort_values(\"t\").reset_index(drop=True)\n",
    "        print(city, df_folds.shape, df_folds[target_col].mean())\n",
    "    \n",
    "        for fold in run_folds:\n",
    "            dict_models[margin][city][fold] = {}\n",
    "            \n",
    "            print(\"=\"*40)\n",
    "            print( f\"Processing margin {margin} city {city}  fold {fold} ... \")\n",
    "            \n",
    "            df_fold_train = df_folds[df_folds[\"fold\"] != fold].reset_index(drop=True)\n",
    "            if fold >= 0:\n",
    "                df_fold_val = df_folds[df_folds[\"fold\"] == fold].reset_index(drop=True)\n",
    "            else:\n",
    "                df_fold_val = df_fold_train.copy()\n",
    "\n",
    "            # Only sampling the train set\n",
    "            # df_fold_train = sampling(df_fold_train).sort_values(\"t\").reset_index(drop=True)\n",
    "            \n",
    "            X_train = []\n",
    "            for index, row in tqdm(df_fold_train.iterrows()):\n",
    "                img = get_features_row(row, margin=margin)\n",
    "                X_train.append(img.flatten())\n",
    "            X_train = np.stack(X_train)\n",
    "            \n",
    "            X_val = []\n",
    "            for index, row in tqdm(df_fold_val.iterrows()):\n",
    "                img = get_features_row(row, margin=margin)\n",
    "                X_val.append(img.flatten())\n",
    "            X_val = np.stack(X_val)\n",
    "            \n",
    "            y_train = np.array(df_fold_train[target_col])\n",
    "            y_val = np.array(df_fold_val[target_col])\n",
    "            \n",
    "            print(X_train.shape, X_val.shape, y_train.mean(), y_val.mean())\n",
    "        \n",
    "            # model = CascadeForestClassifier(random_state=1)\n",
    "            model = gcForest(shape_1X=[8,8], window=[4,6], tolerance=0.0, min_samples_mgs=10, min_samples_cascade=7)\n",
    "            model.fit(X_train, y_train) # Be careful when fold==-1, train == val\n",
    "            \n",
    "            y_pred = model.predict_proba(X_val)\n",
    "            y_pred_bin = (y_pred[:,1] >= 0.5).astype(int)\n",
    "            \n",
    "            acc = accuracy_score(y_val, y_pred_bin)\n",
    "            \n",
    "            if (y_pred_bin.mean() == 0) or (y_pred_bin.mean() == 1):\n",
    "                auc = -1\n",
    "                f1 = -1\n",
    "            else:\n",
    "                auc = roc_auc_score(y_val, y_pred[:,1])\n",
    "                f1 = f1_score(y_val, y_pred[:,1] >= 0.5, pos_label=1)\n",
    "        \n",
    "            print(f\"F1: {f1}, ACC: {acc}, AUC: {auc}\")\n",
    "            \n",
    "            dict_models[margin][city][fold] = {\n",
    "                \"model\": model,\n",
    "                \"metrics\": {\n",
    "                    \"acc\": acc,\n",
    "                    \"auc\": auc,\n",
    "                    \"f1\": f1,\n",
    "                },\n",
    "                \"y_pred\": y_pred,\n",
    "                \"y_val\": y_val,\n",
    "                \"df_val\": df_fold_val\n",
    "            }\n",
    "            print(\"=\"*40)\n",
    "        \n",
    "        len(dict_models)"
   ]
  },
  {
   "cell_type": "code",
   "execution_count": null,
   "id": "080ff070-a358-4f86-ab57-55a31f8bf561",
   "metadata": {},
   "outputs": [],
   "source": []
  },
  {
   "cell_type": "code",
   "execution_count": null,
   "id": "444490d7-67c9-481f-b54f-248060ff34f4",
   "metadata": {},
   "outputs": [],
   "source": [
    "def get_best_threshold(y_pred, y_val, verbose=False):\n",
    "    # Get the probability values for the positive class\n",
    "    y_prob = y_pred[:, 1]\n",
    "    y_test = y_val[:]\n",
    "    \n",
    "    # Initialize the variables to store the best threshold and F1 score\n",
    "    best_threshold = 0\n",
    "    best_f1 = 0\n",
    "     \n",
    "    # Loop through the possible threshold values from 0 to 1 with a step of 0.01\n",
    "    for threshold in np.arange(0, 1, 0.01):\n",
    "        # Apply the threshold to the probability values to get the predicted labels\n",
    "        y_pred_bin = (y_prob >= threshold).astype(int)\n",
    "        if (y_pred_bin.mean() > 0) and (y_pred_bin.mean() < 1):\n",
    "            # Calculate the F1 score for the current threshold\n",
    "            f1 = f1_score(y_test, y_pred_bin)\n",
    "            # Update the best threshold and F1 score if the current F1 score is higher\n",
    "            if f1 > best_f1:\n",
    "                best_threshold = threshold\n",
    "                best_f1 = f1\n",
    "\n",
    "    auc = -1\n",
    "    if (y_val.mean() > 0) and (y_val.mean() < 1):\n",
    "        auc = roc_auc_score(y_val, y_pred[:,1])\n",
    "    \n",
    "    if verbose:\n",
    "        # Print the best threshold and F1 score\n",
    "        print(f\"The optimal threshold is {best_threshold:.2f}\")\n",
    "        print(f\"The F1 score using the optimal threshold is {best_f1:.3f}\")\n",
    "\n",
    "    return float(best_threshold), float(round(best_f1, 3)), float(round(auc, 3))"
   ]
  },
  {
   "cell_type": "code",
   "execution_count": null,
   "id": "d09e75e3-2f07-4b0c-a772-d5f27af484b0",
   "metadata": {},
   "outputs": [],
   "source": [
    "dict_meta = {}\n",
    "\n",
    "for margin in run_margins:\n",
    "    f1_full = []\n",
    "    for city in locations:\n",
    "        for fold in run_folds:\n",
    "            meta_run = dict_models[margin][city][fold]\n",
    "            y_pred = meta_run[\"y_pred\"]\n",
    "            y_val = meta_run[\"y_val\"]\n",
    "            best_threshold, best_f1, auc = get_best_threshold(y_pred, y_val)\n",
    "            \n",
    "            # print( city, margin, fold, \"=>\", best_threshold, best_f1)\n",
    "\n",
    "            if (city not in dict_meta) or (best_f1 > dict_meta[city][\"params\"][\"best_f1\"]):\n",
    "                dict_meta[city] = {\n",
    "                    \"model\": meta_run[\"model\"],\n",
    "                    \"params\": {\n",
    "                        \"margin\": margin,\n",
    "                        \"best_f1\": best_f1,\n",
    "                        \"best_threshold\": best_threshold,\n",
    "                        \"auc\": auc\n",
    "                    }\n",
    "                }\n",
    "                \n",
    "for city in locations:\n",
    "    print(dict_meta[city][\"params\"])"
   ]
  },
  {
   "cell_type": "code",
   "execution_count": null,
   "id": "f306fe5c-16c3-4b61-9f39-80c5e70c46e8",
   "metadata": {},
   "outputs": [],
   "source": [
    "# dict_params = {}\n",
    "# for city in dict_meta:\n",
    "#     dict_params[city] = dict_meta[city][\"params\"]\n",
    "# dict_params\n",
    "dict_params = {'Atlantic City': {'margin': 3,\n",
    "  'best_f1': 0.223,\n",
    "  'best_threshold': 0.11,\n",
    "  'auc': 0.622},\n",
    " 'Baltimore': {'margin': 7,\n",
    "  'best_f1': 0.214,\n",
    "  'best_threshold': 0.27,\n",
    "  'auc': 0.693},\n",
    " 'Eastport': {'margin': 3,\n",
    "  'best_f1': 0.15,\n",
    "  'best_threshold': 0.06,\n",
    "  'auc': 0.535},\n",
    " 'Fort Pulaski': {'margin': 3,\n",
    "  'best_f1': 0.078,\n",
    "  'best_threshold': 0.05,\n",
    "  'auc': 0.704},\n",
    " 'Lewes': {'margin': 5,\n",
    "  'best_f1': 0.256,\n",
    "  'best_threshold': 0.24,\n",
    "  'auc': 0.706},\n",
    " 'New London': {'margin': 7,\n",
    "  'best_f1': 0.118,\n",
    "  'best_threshold': 0.07,\n",
    "  'auc': 0.632},\n",
    " 'Newport': {'margin': 3, 'best_f1': 0.0, 'best_threshold': 0.0, 'auc': -1.0},\n",
    " 'Portland': {'margin': 3,\n",
    "  'best_f1': 0.105,\n",
    "  'best_threshold': 0.22,\n",
    "  'auc': 0.588},\n",
    " 'Sandy Hook': {'margin': 7,\n",
    "  'best_f1': 0.199,\n",
    "  'best_threshold': 0.15,\n",
    "  'auc': 0.624},\n",
    " 'Sewells Point': {'margin': 5,\n",
    "  'best_f1': 0.368,\n",
    "  'best_threshold': 0.08,\n",
    "  'auc': 0.764},\n",
    " 'The Battery': {'margin': 5,\n",
    "  'best_f1': 0.087,\n",
    "  'best_threshold': 0.03,\n",
    "  'auc': 0.614},\n",
    " 'Washington': {'margin': 10,\n",
    "  'best_f1': 0.307,\n",
    "  'best_threshold': 0.2,\n",
    "  'auc': 0.68}}"
   ]
  },
  {
   "cell_type": "code",
   "execution_count": null,
   "id": "47b06d4a-d185-442d-be71-d9afe7ccbe2f",
   "metadata": {},
   "outputs": [],
   "source": [
    "dict_meta = {}\n",
    "\n",
    "for city in locations:\n",
    "    margin = dict_params[city][\"margin\"]\n",
    "    fold = -1\n",
    "    meta_run = dict_models[margin][city][fold]\n",
    "\n",
    "    dict_meta[city] = {\n",
    "        \"model\": meta_run[\"model\"],\n",
    "        \"params\": dict_params[city]\n",
    "    }\n",
    "\n",
    "for city in locations:\n",
    "    print(dict_meta[city][\"params\"])"
   ]
  },
  {
   "cell_type": "code",
   "execution_count": null,
   "id": "495146fd-d405-42e9-8e32-557b0283c4fc",
   "metadata": {},
   "outputs": [],
   "source": [
    "sub_dir = \"subs/sub_supervision\"\n",
    "with open(f'{sub_dir}/dict_meta.pickle', 'wb') as handle:\n",
    "    pickle.dump(dict_meta, handle)"
   ]
  },
  {
   "cell_type": "code",
   "execution_count": null,
   "id": "7614ad1c-18b7-4985-94bf-0b689126a687",
   "metadata": {},
   "outputs": [],
   "source": [
    "model.predict_proba([img.flatten()])"
   ]
  },
  {
   "cell_type": "code",
   "execution_count": null,
   "id": "3ab91fed-d66f-4fdf-9c95-604b9f686975",
   "metadata": {},
   "outputs": [],
   "source": [
    "prob = model.predict_proba([img.flatten()])\n",
    "prob"
   ]
  },
  {
   "cell_type": "markdown",
   "id": "9f1b6dfc-553b-4859-8c7b-c5f990dae511",
   "metadata": {},
   "source": [
    "# Combination"
   ]
  },
  {
   "cell_type": "code",
   "execution_count": null,
   "id": "b639e316-e097-4db0-8d23-ce5462a3467a",
   "metadata": {},
   "outputs": [],
   "source": [
    "# Custom models\n",
    "with open(os.path.join(\"subs/sub_isolation\", \"dict_meta.pickle\"), \"rb\") as f:\n",
    "    dict_ano = pickle.load(f)\n",
    "dict_ano"
   ]
  },
  {
   "cell_type": "code",
   "execution_count": null,
   "id": "b858dc45-cee3-44c9-9733-9b9d5ee5265c",
   "metadata": {},
   "outputs": [],
   "source": [
    "dict_bin = dict_meta"
   ]
  },
  {
   "cell_type": "code",
   "execution_count": null,
   "id": "071b13ba-d437-458d-9867-088b0abf8643",
   "metadata": {},
   "outputs": [],
   "source": [
    "dict_com = {}\n",
    "for city in locations:\n",
    "    if dict_bin[city][\"params\"][\"best_f1\"] >= dict_ano[city][\"params\"][\"best_f1\"]:\n",
    "        dict_com[city] = dict_bin[city]\n",
    "    else:\n",
    "        dict_com[city] = dict_ano[city]\n",
    "len(dict_com)"
   ]
  },
  {
   "cell_type": "code",
   "execution_count": null,
   "id": "f164fa2f-8e77-48a0-9264-811074ba6835",
   "metadata": {},
   "outputs": [],
   "source": [
    "sub_dir = \"subs/sub_combination\"\n",
    "!mkdir -p $sub_dir\n",
    "with open(f'{sub_dir}/dict_meta.pickle', 'wb') as handle:\n",
    "    pickle.dump(dict_com, handle)"
   ]
  },
  {
   "cell_type": "code",
   "execution_count": null,
   "id": "92f95445-d8a2-4074-9796-2030907607bf",
   "metadata": {},
   "outputs": [],
   "source": [
    "dict_com"
   ]
  },
  {
   "cell_type": "code",
   "execution_count": null,
   "id": "dfee4c12-15d4-41c2-81ac-48fed9027f0c",
   "metadata": {},
   "outputs": [],
   "source": []
  }
 ],
 "metadata": {
  "kernelspec": {
   "display_name": "Python 3 (ipykernel)",
   "language": "python",
   "name": "python3"
  },
  "language_info": {
   "codemirror_mode": {
    "name": "ipython",
    "version": 3
   },
   "file_extension": ".py",
   "mimetype": "text/x-python",
   "name": "python",
   "nbconvert_exporter": "python",
   "pygments_lexer": "ipython3",
   "version": "3.9.21"
  }
 },
 "nbformat": 4,
 "nbformat_minor": 5
}
