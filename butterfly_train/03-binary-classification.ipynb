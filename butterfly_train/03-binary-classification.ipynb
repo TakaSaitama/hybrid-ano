{
 "cells": [
  {
   "cell_type": "code",
   "execution_count": 1,
   "id": "da312162-324d-4354-8f0e-108ea84e915c",
   "metadata": {
    "execution": {
     "iopub.execute_input": "2025-01-25T17:41:22.533831Z",
     "iopub.status.busy": "2025-01-25T17:41:22.533203Z",
     "iopub.status.idle": "2025-01-25T17:41:22.821495Z",
     "shell.execute_reply": "2025-01-25T17:41:22.819337Z",
     "shell.execute_reply.started": "2025-01-25T17:41:22.533762Z"
    }
   },
   "outputs": [
    {
     "name": "stdout",
     "output_type": "stream",
     "text": [
      "5 2024\n",
      "butterfly_anomaly_train_checksums.csv  butterfly_anomaly_train_log.jsonl\n",
      "butterfly_anomaly_train.csv\t       images\n",
      "   7598    7598  116835\n"
     ]
    }
   ],
   "source": [
    "input_dir = \"input/\"\n",
    "images_dir = \"sub_images/positive/\"\n",
    "\n",
    "nb_folds = 5\n",
    "seed = 2024\n",
    "\n",
    "print(nb_folds, seed)\n",
    "\n",
    "!ls $input_dir\n",
    "!ls $images_dir | wc"
   ]
  },
  {
   "cell_type": "code",
   "execution_count": 2,
   "id": "33350bac-b44e-4372-8936-978f5b286d3f",
   "metadata": {
    "execution": {
     "iopub.execute_input": "2025-01-25T17:41:22.825343Z",
     "iopub.status.busy": "2025-01-25T17:41:22.824704Z",
     "iopub.status.idle": "2025-01-25T17:41:24.854698Z",
     "shell.execute_reply": "2025-01-25T17:41:24.852293Z",
     "shell.execute_reply.started": "2025-01-25T17:41:22.825303Z"
    }
   },
   "outputs": [
    {
     "name": "stdout",
     "output_type": "stream",
     "text": [
      "Python 3.9.21\n"
     ]
    }
   ],
   "source": [
    "import numpy as np\n",
    "import pandas as pd\n",
    "import pickle\n",
    "import glob\n",
    "\n",
    "from sklearn.model_selection import StratifiedKFold, StratifiedGroupKFold\n",
    "from sklearn.metrics import confusion_matrix, ConfusionMatrixDisplay\n",
    "\n",
    "import numpy as np\n",
    "np.bool = bool\n",
    "\n",
    "from sklearn import metrics\n",
    "import matplotlib.pyplot as plt\n",
    "from tqdm import tqdm\n",
    "\n",
    "# Mine\n",
    "from GCForest import gcForest # https://github.com/pylablanche/gcForest/tree/master\n",
    "import utils\n",
    "utils.seed_basic(seed)\n",
    "\n",
    "!python --version"
   ]
  },
  {
   "cell_type": "code",
   "execution_count": 3,
   "id": "238290bc-3995-4143-af44-e18c6887e9a1",
   "metadata": {
    "execution": {
     "iopub.execute_input": "2025-01-25T17:41:24.857582Z",
     "iopub.status.busy": "2025-01-25T17:41:24.856892Z",
     "iopub.status.idle": "2025-01-25T17:41:24.912094Z",
     "shell.execute_reply": "2025-01-25T17:41:24.910880Z",
     "shell.execute_reply.started": "2025-01-25T17:41:24.857540Z"
    }
   },
   "outputs": [
    {
     "name": "stdout",
     "output_type": "stream",
     "text": [
      "7598 ['sub_images/positive/CAM016787_3.jpg', 'sub_images/positive/19N2282_3.jpg'] ['sub_images/positive/CAM008980_0.jpg', 'sub_images/positive/19N0834_0.jpg']\n",
      "2082 ['../input/images/hybrid/CAM016787.jpg', '../input/images/hybrid/CAM016987.jpg'] ['../input/images/non-hybrid/CAM016081.jpg', '../input/images/non-hybrid/CAM045121.jpg']\n"
     ]
    },
    {
     "data": {
      "text/plain": [
       "'../input/images/hybrid/CAM016787.jpg'"
      ]
     },
     "execution_count": 3,
     "metadata": {},
     "output_type": "execute_result"
    }
   ],
   "source": [
    "filenames = glob.glob(images_dir + \"/*.jpg\")\n",
    "print(len(filenames), filenames[:2], filenames[-2:])\n",
    "\n",
    "original_filenames = glob.glob(input_dir + \"images/**/*.jpg\")\n",
    "print(len(original_filenames), original_filenames[:2], original_filenames[-2:])\n",
    "\n",
    "def get_butterfly_id(f):\n",
    "    return f.split(\"/\")[-1].split(\".\")[0].split(\"_\")[0]\n",
    "    \n",
    "dict_original_filenames = {get_butterfly_id(f):f for f in original_filenames}\n",
    "\n",
    "def get_original_filename(filename):\n",
    "    butterfly_id = get_butterfly_id(filename)\n",
    "    return dict_original_filenames.get(butterfly_id)\n",
    "\n",
    "get_original_filename('sub_images/positive/CAM016787_3.jpg')"
   ]
  },
  {
   "cell_type": "code",
   "execution_count": 28,
   "id": "9e583b6b-36a3-4f7c-a22a-15cc455fb0ea",
   "metadata": {
    "execution": {
     "iopub.execute_input": "2025-01-25T19:50:09.703336Z",
     "iopub.status.busy": "2025-01-25T19:50:09.702892Z",
     "iopub.status.idle": "2025-01-25T19:50:09.722568Z",
     "shell.execute_reply": "2025-01-25T19:50:09.720347Z",
     "shell.execute_reply.started": "2025-01-25T19:50:09.703298Z"
    }
   },
   "outputs": [],
   "source": [
    "from sklearn.metrics import recall_score, precision_score, f1_score, roc_auc_score, accuracy_score\n",
    "from sklearn.metrics import precision_recall_curve, auc\n",
    "import numpy as np\n",
    "\n",
    "def cal_pr_auc(gt, preds):\n",
    "    precision, recall, _ = precision_recall_curve(gt, preds)\n",
    "    pr_auc = auc(recall, precision)\n",
    "    return float(pr_auc)\n",
    "    \n",
    "def evaluate_prediction(scores, labels, reversed=False):\n",
    "    combined = list(zip(scores, labels))\n",
    "    combined = sorted(combined, key=lambda x: x[0], reverse=reversed)\n",
    "    combined = np.array(combined)\n",
    "\n",
    "    for i in range(combined.shape[0] + 1):\n",
    "        ls, rs = i, combined.shape[0] - i\n",
    "        preds = np.concatenate((np.zeros(ls), np.ones(rs)))\n",
    "        recall = recall_score(combined[:, 1], preds, pos_label=0)\n",
    "        if recall >= 0.95:\n",
    "            return preds, combined[:, 1]\n",
    "    \n",
    "    return None, combined[:, 1]  \n",
    "\n",
    "def evaluate(scores, labels, reversed=False):\n",
    "    \"\"\"Requires lower score to mean more likely to be non-hybrid,\n",
    "    and higher score to mean more likely to be hybrid.\n",
    "    \n",
    "    If you would like this to be reversed, set reversed=True\n",
    "    \"\"\"\n",
    "    preds, gt = evaluate_prediction(scores, labels, reversed)\n",
    "\n",
    "    if preds is None:\n",
    "        return None  \n",
    "    \n",
    "    h_recall = recall_score(gt, preds, pos_label=1)\n",
    "    h_precision = precision_score(gt, preds, pos_label=1)\n",
    "    f1 = f1_score(gt, preds, pos_label=1)\n",
    "    roc_auc = roc_auc_score(gt, preds)\n",
    "    acc = accuracy_score(gt, preds)\n",
    "\n",
    "    pr_auc = cal_pr_auc(gt, preds)\n",
    "\n",
    "    return h_recall, h_precision, f1, roc_auc, acc, pr_auc\n",
    "\n",
    "def print_evaluation(h_recall, h_precision, f1, roc_auc, acc, pr_auc):\n",
    "    print(f\"\"\"\n",
    "          Hybrid-Recall: {h_recall}\n",
    "          Hybrid-Precision: {h_precision}\n",
    "          f1-Score: {f1}\n",
    "          ROC AUC: {roc_auc}\n",
    "          Accuracy: {acc},\n",
    "          PR AUC: {pr_auc}\n",
    "          \"\"\")"
   ]
  },
  {
   "cell_type": "code",
   "execution_count": null,
   "id": "b156c27f-99a6-4c62-a26f-3c0f0c575a3f",
   "metadata": {},
   "outputs": [],
   "source": []
  },
  {
   "cell_type": "code",
   "execution_count": 5,
   "id": "07d2b2cb-c0a0-4724-932e-8134d815e9a9",
   "metadata": {
    "execution": {
     "iopub.execute_input": "2025-01-25T17:41:24.929216Z",
     "iopub.status.busy": "2025-01-25T17:41:24.928784Z",
     "iopub.status.idle": "2025-01-25T17:41:24.970843Z",
     "shell.execute_reply": "2025-01-25T17:41:24.969724Z",
     "shell.execute_reply.started": "2025-01-25T17:41:24.929170Z"
    }
   },
   "outputs": [
    {
     "data": {
      "text/html": [
       "<div>\n",
       "<style scoped>\n",
       "    .dataframe tbody tr th:only-of-type {\n",
       "        vertical-align: middle;\n",
       "    }\n",
       "\n",
       "    .dataframe tbody tr th {\n",
       "        vertical-align: top;\n",
       "    }\n",
       "\n",
       "    .dataframe thead th {\n",
       "        text-align: right;\n",
       "    }\n",
       "</style>\n",
       "<table border=\"1\" class=\"dataframe\">\n",
       "  <thead>\n",
       "    <tr style=\"text-align: right;\">\n",
       "      <th></th>\n",
       "      <th>CAMID</th>\n",
       "      <th>file_url</th>\n",
       "      <th>hybrid_stat</th>\n",
       "      <th>split</th>\n",
       "      <th>zenodo_link</th>\n",
       "      <th>md5</th>\n",
       "      <th>subspecies</th>\n",
       "      <th>parent_subspecies_1</th>\n",
       "      <th>parent_subspecies_2</th>\n",
       "      <th>filename</th>\n",
       "      <th>butterfly_id</th>\n",
       "    </tr>\n",
       "  </thead>\n",
       "  <tbody>\n",
       "    <tr>\n",
       "      <th>2077</th>\n",
       "      <td>CAM036201</td>\n",
       "      <td>https://zenodo.org/record/5561246/files/CAM036...</td>\n",
       "      <td>non-hybrid</td>\n",
       "      <td>train</td>\n",
       "      <td>https://zenodo.org/record/5561246</td>\n",
       "      <td>3e3c5d0f40fe04388e021b96d07bcdf6</td>\n",
       "      <td>11.0</td>\n",
       "      <td>NaN</td>\n",
       "      <td>NaN</td>\n",
       "      <td>CAM036201.jpg</td>\n",
       "      <td>CAM036201</td>\n",
       "    </tr>\n",
       "    <tr>\n",
       "      <th>2078</th>\n",
       "      <td>CAM036199</td>\n",
       "      <td>https://zenodo.org/record/5561246/files/CAM036...</td>\n",
       "      <td>non-hybrid</td>\n",
       "      <td>train</td>\n",
       "      <td>https://zenodo.org/record/5561246</td>\n",
       "      <td>4b6d73bd76cea08370537d4ccd4dc9ef</td>\n",
       "      <td>11.0</td>\n",
       "      <td>NaN</td>\n",
       "      <td>NaN</td>\n",
       "      <td>CAM036199.jpg</td>\n",
       "      <td>CAM036199</td>\n",
       "    </tr>\n",
       "    <tr>\n",
       "      <th>2079</th>\n",
       "      <td>CAM036198</td>\n",
       "      <td>https://zenodo.org/record/5561246/files/CAM036...</td>\n",
       "      <td>non-hybrid</td>\n",
       "      <td>train</td>\n",
       "      <td>https://zenodo.org/record/5561246</td>\n",
       "      <td>d3153f3fac8b98df506895efaf84b23d</td>\n",
       "      <td>11.0</td>\n",
       "      <td>NaN</td>\n",
       "      <td>NaN</td>\n",
       "      <td>CAM036198.jpg</td>\n",
       "      <td>CAM036198</td>\n",
       "    </tr>\n",
       "    <tr>\n",
       "      <th>2080</th>\n",
       "      <td>CAM036197</td>\n",
       "      <td>https://zenodo.org/record/5561246/files/CAM036...</td>\n",
       "      <td>non-hybrid</td>\n",
       "      <td>train</td>\n",
       "      <td>https://zenodo.org/record/5561246</td>\n",
       "      <td>d2cd1c4d54e84daae69c048a538a7609</td>\n",
       "      <td>11.0</td>\n",
       "      <td>NaN</td>\n",
       "      <td>NaN</td>\n",
       "      <td>CAM036197.jpg</td>\n",
       "      <td>CAM036197</td>\n",
       "    </tr>\n",
       "    <tr>\n",
       "      <th>2081</th>\n",
       "      <td>CAM036213</td>\n",
       "      <td>https://zenodo.org/record/5561246/files/CAM036...</td>\n",
       "      <td>non-hybrid</td>\n",
       "      <td>train</td>\n",
       "      <td>https://zenodo.org/record/5561246</td>\n",
       "      <td>fdf557fc5097a4477f3407130352aac2</td>\n",
       "      <td>11.0</td>\n",
       "      <td>NaN</td>\n",
       "      <td>NaN</td>\n",
       "      <td>CAM036213.jpg</td>\n",
       "      <td>CAM036213</td>\n",
       "    </tr>\n",
       "  </tbody>\n",
       "</table>\n",
       "</div>"
      ],
      "text/plain": [
       "          CAMID                                           file_url  \\\n",
       "2077  CAM036201  https://zenodo.org/record/5561246/files/CAM036...   \n",
       "2078  CAM036199  https://zenodo.org/record/5561246/files/CAM036...   \n",
       "2079  CAM036198  https://zenodo.org/record/5561246/files/CAM036...   \n",
       "2080  CAM036197  https://zenodo.org/record/5561246/files/CAM036...   \n",
       "2081  CAM036213  https://zenodo.org/record/5561246/files/CAM036...   \n",
       "\n",
       "     hybrid_stat  split                        zenodo_link  \\\n",
       "2077  non-hybrid  train  https://zenodo.org/record/5561246   \n",
       "2078  non-hybrid  train  https://zenodo.org/record/5561246   \n",
       "2079  non-hybrid  train  https://zenodo.org/record/5561246   \n",
       "2080  non-hybrid  train  https://zenodo.org/record/5561246   \n",
       "2081  non-hybrid  train  https://zenodo.org/record/5561246   \n",
       "\n",
       "                                   md5  subspecies  parent_subspecies_1  \\\n",
       "2077  3e3c5d0f40fe04388e021b96d07bcdf6        11.0                  NaN   \n",
       "2078  4b6d73bd76cea08370537d4ccd4dc9ef        11.0                  NaN   \n",
       "2079  d3153f3fac8b98df506895efaf84b23d        11.0                  NaN   \n",
       "2080  d2cd1c4d54e84daae69c048a538a7609        11.0                  NaN   \n",
       "2081  fdf557fc5097a4477f3407130352aac2        11.0                  NaN   \n",
       "\n",
       "      parent_subspecies_2       filename butterfly_id  \n",
       "2077                  NaN  CAM036201.jpg    CAM036201  \n",
       "2078                  NaN  CAM036199.jpg    CAM036199  \n",
       "2079                  NaN  CAM036198.jpg    CAM036198  \n",
       "2080                  NaN  CAM036197.jpg    CAM036197  \n",
       "2081                  NaN  CAM036213.jpg    CAM036213  "
      ]
     },
     "execution_count": 5,
     "metadata": {},
     "output_type": "execute_result"
    }
   ],
   "source": [
    "df_labels = pd.read_csv(input_dir + \"butterfly_anomaly_train.csv\")\n",
    "df_labels[\"butterfly_id\"] = df_labels[\"filename\"].apply(lambda f: get_butterfly_id(f))\n",
    "df_labels.tail()"
   ]
  },
  {
   "cell_type": "code",
   "execution_count": 6,
   "id": "9808515d-d874-471d-ac63-63af1dfb6f28",
   "metadata": {
    "execution": {
     "iopub.execute_input": "2025-01-25T17:41:24.974951Z",
     "iopub.status.busy": "2025-01-25T17:41:24.974601Z",
     "iopub.status.idle": "2025-01-25T17:41:24.989935Z",
     "shell.execute_reply": "2025-01-25T17:41:24.988865Z",
     "shell.execute_reply.started": "2025-01-25T17:41:24.974916Z"
    }
   },
   "outputs": [
    {
     "data": {
      "text/plain": [
       "parent_subspecies_1  parent_subspecies_2\n",
       "-1.0                 -1.0                   1991\n",
       " 8.0                  9.0                     91\n",
       "Name: filename, dtype: int64"
      ]
     },
     "execution_count": 6,
     "metadata": {},
     "output_type": "execute_result"
    }
   ],
   "source": [
    "df_labels.fillna(-1).groupby([\"parent_subspecies_1\", \"parent_subspecies_2\"])[\"filename\"].count()"
   ]
  },
  {
   "cell_type": "code",
   "execution_count": 7,
   "id": "11249b9d-1bcc-47d5-b161-2981b05bc20c",
   "metadata": {
    "execution": {
     "iopub.execute_input": "2025-01-25T17:41:24.991336Z",
     "iopub.status.busy": "2025-01-25T17:41:24.991028Z",
     "iopub.status.idle": "2025-01-25T17:41:25.028931Z",
     "shell.execute_reply": "2025-01-25T17:41:25.027862Z",
     "shell.execute_reply.started": "2025-01-25T17:41:24.991302Z"
    }
   },
   "outputs": [
    {
     "name": "stdout",
     "output_type": "stream",
     "text": [
      "(7598, 2)\n",
      "target\n",
      "0    7241\n",
      "1     357\n",
      "Name: count, dtype: int64\n"
     ]
    },
    {
     "data": {
      "text/html": [
       "<div>\n",
       "<style scoped>\n",
       "    .dataframe tbody tr th:only-of-type {\n",
       "        vertical-align: middle;\n",
       "    }\n",
       "\n",
       "    .dataframe tbody tr th {\n",
       "        vertical-align: top;\n",
       "    }\n",
       "\n",
       "    .dataframe thead th {\n",
       "        text-align: right;\n",
       "    }\n",
       "</style>\n",
       "<table border=\"1\" class=\"dataframe\">\n",
       "  <thead>\n",
       "    <tr style=\"text-align: right;\">\n",
       "      <th></th>\n",
       "      <th>filename</th>\n",
       "      <th>butterfly_id</th>\n",
       "      <th>hybrid_stat</th>\n",
       "      <th>subspecies</th>\n",
       "      <th>target</th>\n",
       "    </tr>\n",
       "  </thead>\n",
       "  <tbody>\n",
       "    <tr>\n",
       "      <th>0</th>\n",
       "      <td>sub_images/positive/CAM016787_3.jpg</td>\n",
       "      <td>CAM016787</td>\n",
       "      <td>hybrid</td>\n",
       "      <td>NaN</td>\n",
       "      <td>1</td>\n",
       "    </tr>\n",
       "    <tr>\n",
       "      <th>1</th>\n",
       "      <td>sub_images/positive/19N2282_3.jpg</td>\n",
       "      <td>19N2282</td>\n",
       "      <td>non-hybrid</td>\n",
       "      <td>8.0</td>\n",
       "      <td>0</td>\n",
       "    </tr>\n",
       "    <tr>\n",
       "      <th>2</th>\n",
       "      <td>sub_images/positive/19N2117_0.jpg</td>\n",
       "      <td>19N2117</td>\n",
       "      <td>non-hybrid</td>\n",
       "      <td>8.0</td>\n",
       "      <td>0</td>\n",
       "    </tr>\n",
       "    <tr>\n",
       "      <th>3</th>\n",
       "      <td>sub_images/positive/CS000283_1.jpg</td>\n",
       "      <td>CS000283</td>\n",
       "      <td>non-hybrid</td>\n",
       "      <td>13.0</td>\n",
       "      <td>0</td>\n",
       "    </tr>\n",
       "    <tr>\n",
       "      <th>4</th>\n",
       "      <td>sub_images/positive/CAM040497_1.jpg</td>\n",
       "      <td>CAM040497</td>\n",
       "      <td>non-hybrid</td>\n",
       "      <td>2.0</td>\n",
       "      <td>0</td>\n",
       "    </tr>\n",
       "    <tr>\n",
       "      <th>...</th>\n",
       "      <td>...</td>\n",
       "      <td>...</td>\n",
       "      <td>...</td>\n",
       "      <td>...</td>\n",
       "      <td>...</td>\n",
       "    </tr>\n",
       "    <tr>\n",
       "      <th>7593</th>\n",
       "      <td>sub_images/positive/CAM021071_2.jpg</td>\n",
       "      <td>CAM021071</td>\n",
       "      <td>non-hybrid</td>\n",
       "      <td>0.0</td>\n",
       "      <td>0</td>\n",
       "    </tr>\n",
       "    <tr>\n",
       "      <th>7594</th>\n",
       "      <td>sub_images/positive/19N2159_1.jpg</td>\n",
       "      <td>19N2159</td>\n",
       "      <td>non-hybrid</td>\n",
       "      <td>8.0</td>\n",
       "      <td>0</td>\n",
       "    </tr>\n",
       "    <tr>\n",
       "      <th>7595</th>\n",
       "      <td>sub_images/positive/CAM041069_1.jpg</td>\n",
       "      <td>CAM041069</td>\n",
       "      <td>non-hybrid</td>\n",
       "      <td>8.0</td>\n",
       "      <td>0</td>\n",
       "    </tr>\n",
       "    <tr>\n",
       "      <th>7596</th>\n",
       "      <td>sub_images/positive/CAM008980_0.jpg</td>\n",
       "      <td>CAM008980</td>\n",
       "      <td>non-hybrid</td>\n",
       "      <td>7.0</td>\n",
       "      <td>0</td>\n",
       "    </tr>\n",
       "    <tr>\n",
       "      <th>7597</th>\n",
       "      <td>sub_images/positive/19N0834_0.jpg</td>\n",
       "      <td>19N0834</td>\n",
       "      <td>non-hybrid</td>\n",
       "      <td>8.0</td>\n",
       "      <td>0</td>\n",
       "    </tr>\n",
       "  </tbody>\n",
       "</table>\n",
       "<p>7598 rows × 5 columns</p>\n",
       "</div>"
      ],
      "text/plain": [
       "                                 filename butterfly_id hybrid_stat  \\\n",
       "0     sub_images/positive/CAM016787_3.jpg    CAM016787      hybrid   \n",
       "1       sub_images/positive/19N2282_3.jpg      19N2282  non-hybrid   \n",
       "2       sub_images/positive/19N2117_0.jpg      19N2117  non-hybrid   \n",
       "3      sub_images/positive/CS000283_1.jpg     CS000283  non-hybrid   \n",
       "4     sub_images/positive/CAM040497_1.jpg    CAM040497  non-hybrid   \n",
       "...                                   ...          ...         ...   \n",
       "7593  sub_images/positive/CAM021071_2.jpg    CAM021071  non-hybrid   \n",
       "7594    sub_images/positive/19N2159_1.jpg      19N2159  non-hybrid   \n",
       "7595  sub_images/positive/CAM041069_1.jpg    CAM041069  non-hybrid   \n",
       "7596  sub_images/positive/CAM008980_0.jpg    CAM008980  non-hybrid   \n",
       "7597    sub_images/positive/19N0834_0.jpg      19N0834  non-hybrid   \n",
       "\n",
       "      subspecies  target  \n",
       "0            NaN       1  \n",
       "1            8.0       0  \n",
       "2            8.0       0  \n",
       "3           13.0       0  \n",
       "4            2.0       0  \n",
       "...          ...     ...  \n",
       "7593         0.0       0  \n",
       "7594         8.0       0  \n",
       "7595         8.0       0  \n",
       "7596         7.0       0  \n",
       "7597         8.0       0  \n",
       "\n",
       "[7598 rows x 5 columns]"
      ]
     },
     "execution_count": 7,
     "metadata": {},
     "output_type": "execute_result"
    }
   ],
   "source": [
    "df_train = pd.DataFrame({'filename': filenames})\n",
    "\n",
    "df_train[\"butterfly_id\"] = df_train[\"filename\"].apply(lambda f: get_butterfly_id(f))\n",
    "print(df_train.shape)\n",
    "\n",
    "view_cols = [\"butterfly_id\", \"hybrid_stat\", \"subspecies\"]\n",
    "# view_rows = ~df_labels[\"subspecies\"].isna()\n",
    "\n",
    "df_train = pd.merge(df_train, df_labels[view_cols], on=\"butterfly_id\")\n",
    "df_train[\"target\"] = (df_train[\"hybrid_stat\"] == \"hybrid\").astype(int)\n",
    "\n",
    "print(df_train[\"target\"].value_counts())\n",
    "df_train"
   ]
  },
  {
   "cell_type": "code",
   "execution_count": 8,
   "id": "89bc7655-2a0d-4526-a2ef-b7d33f7a230f",
   "metadata": {
    "execution": {
     "iopub.execute_input": "2025-01-25T17:41:25.030320Z",
     "iopub.status.busy": "2025-01-25T17:41:25.030007Z",
     "iopub.status.idle": "2025-01-25T17:41:26.660859Z",
     "shell.execute_reply": "2025-01-25T17:41:26.659146Z",
     "shell.execute_reply.started": "2025-01-25T17:41:25.030287Z"
    }
   },
   "outputs": [
    {
     "data": {
      "text/html": [
       "<div>\n",
       "<style scoped>\n",
       "    .dataframe tbody tr th:only-of-type {\n",
       "        vertical-align: middle;\n",
       "    }\n",
       "\n",
       "    .dataframe tbody tr th {\n",
       "        vertical-align: top;\n",
       "    }\n",
       "\n",
       "    .dataframe thead th {\n",
       "        text-align: right;\n",
       "    }\n",
       "</style>\n",
       "<table border=\"1\" class=\"dataframe\">\n",
       "  <thead>\n",
       "    <tr style=\"text-align: right;\">\n",
       "      <th></th>\n",
       "      <th>count</th>\n",
       "      <th>sum</th>\n",
       "    </tr>\n",
       "    <tr>\n",
       "      <th>fold</th>\n",
       "      <th></th>\n",
       "      <th></th>\n",
       "    </tr>\n",
       "  </thead>\n",
       "  <tbody>\n",
       "    <tr>\n",
       "      <th>0</th>\n",
       "      <td>1509</td>\n",
       "      <td>75</td>\n",
       "    </tr>\n",
       "    <tr>\n",
       "      <th>1</th>\n",
       "      <td>1534</td>\n",
       "      <td>76</td>\n",
       "    </tr>\n",
       "    <tr>\n",
       "      <th>2</th>\n",
       "      <td>1519</td>\n",
       "      <td>71</td>\n",
       "    </tr>\n",
       "    <tr>\n",
       "      <th>3</th>\n",
       "      <td>1515</td>\n",
       "      <td>60</td>\n",
       "    </tr>\n",
       "    <tr>\n",
       "      <th>4</th>\n",
       "      <td>1521</td>\n",
       "      <td>75</td>\n",
       "    </tr>\n",
       "  </tbody>\n",
       "</table>\n",
       "</div>"
      ],
      "text/plain": [
       "      count  sum\n",
       "fold            \n",
       "0      1509   75\n",
       "1      1534   76\n",
       "2      1519   71\n",
       "3      1515   60\n",
       "4      1521   75"
      ]
     },
     "execution_count": 8,
     "metadata": {},
     "output_type": "execute_result"
    }
   ],
   "source": [
    "skf = StratifiedGroupKFold(n_splits=nb_folds, random_state=seed, shuffle=True)\n",
    "df_folds = df_train.copy()\n",
    "df_folds[\"fold\"] = -1\n",
    "\n",
    "for i, (train_index, test_index) in enumerate(skf.split(df_folds, df_folds[\"target\"], df_folds[\"butterfly_id\"])):\n",
    "    df_folds.loc[test_index, \"fold\"] = i\n",
    "\n",
    "df_folds.groupby([\"fold\"])[\"target\"].agg([\"count\", \"sum\"])"
   ]
  },
  {
   "cell_type": "code",
   "execution_count": 9,
   "id": "2408a5f3-73e7-4f0b-9759-24a77810233b",
   "metadata": {
    "execution": {
     "iopub.execute_input": "2025-01-25T17:41:26.662293Z",
     "iopub.status.busy": "2025-01-25T17:41:26.661982Z",
     "iopub.status.idle": "2025-01-25T17:41:26.675583Z",
     "shell.execute_reply": "2025-01-25T17:41:26.674393Z",
     "shell.execute_reply.started": "2025-01-25T17:41:26.662259Z"
    }
   },
   "outputs": [
    {
     "data": {
      "text/plain": [
       "butterfly_id\n",
       "15N016       1\n",
       "CAM040589    1\n",
       "CAM040588    1\n",
       "CAM040587    1\n",
       "CAM040586    1\n",
       "            ..\n",
       "CAM016045    1\n",
       "CAM016018    1\n",
       "CAM016013    1\n",
       "CAM016008    1\n",
       "SHM000341    1\n",
       "Name: fold, Length: 2082, dtype: int64"
      ]
     },
     "execution_count": 9,
     "metadata": {},
     "output_type": "execute_result"
    }
   ],
   "source": [
    "df_folds.groupby(\"butterfly_id\")[\"fold\"].nunique().sort_values()"
   ]
  },
  {
   "cell_type": "code",
   "execution_count": 10,
   "id": "dc316f39-ae6c-465c-938d-6c607429fb13",
   "metadata": {
    "execution": {
     "iopub.execute_input": "2025-01-25T17:41:26.677024Z",
     "iopub.status.busy": "2025-01-25T17:41:26.676702Z",
     "iopub.status.idle": "2025-01-25T17:41:26.732488Z",
     "shell.execute_reply": "2025-01-25T17:41:26.731465Z",
     "shell.execute_reply.started": "2025-01-25T17:41:26.676991Z"
    }
   },
   "outputs": [
    {
     "data": {
      "text/plain": [
       "(7598, 'sub_images/positive/CAM016787_3.jpg')"
      ]
     },
     "execution_count": 10,
     "metadata": {},
     "output_type": "execute_result"
    }
   ],
   "source": [
    "import pickle\n",
    "\n",
    "with open('workspace/bioclip_features.pickle', 'rb') as handle: # TODO: verify if it works\n",
    "    features_dict = pickle.load(handle)\n",
    "len(features_dict), list(features_dict.keys())[0]"
   ]
  },
  {
   "cell_type": "code",
   "execution_count": 11,
   "id": "23c34b0c-5155-499b-a3e2-7916f87c0c77",
   "metadata": {
    "execution": {
     "iopub.execute_input": "2025-01-25T17:41:26.733881Z",
     "iopub.status.busy": "2025-01-25T17:41:26.733557Z",
     "iopub.status.idle": "2025-01-25T17:41:26.739851Z",
     "shell.execute_reply": "2025-01-25T17:41:26.738352Z",
     "shell.execute_reply.started": "2025-01-25T17:41:26.733847Z"
    }
   },
   "outputs": [],
   "source": [
    "def get_features_row(row):\n",
    "    filename = row[\"filename\"]\n",
    "    original_filename = get_original_filename(filename)\n",
    "    features = features_dict[filename]\n",
    "    return features"
   ]
  },
  {
   "cell_type": "code",
   "execution_count": 12,
   "id": "4a7eca1f-067b-47f3-93e2-978fe7476ebc",
   "metadata": {
    "execution": {
     "iopub.execute_input": "2025-01-25T17:41:26.741229Z",
     "iopub.status.busy": "2025-01-25T17:41:26.740927Z",
     "iopub.status.idle": "2025-01-25T17:42:59.867841Z",
     "shell.execute_reply": "2025-01-25T17:42:59.866630Z",
     "shell.execute_reply.started": "2025-01-25T17:41:26.741196Z"
    }
   },
   "outputs": [
    {
     "name": "stdout",
     "output_type": "stream",
     "text": [
      "run_folds: [0]\n",
      "========================================\n",
      "Processing fold 0 ... \n"
     ]
    },
    {
     "name": "stderr",
     "output_type": "stream",
     "text": [
      "6089it [00:00, 8490.52it/s]\n"
     ]
    },
    {
     "name": "stdout",
     "output_type": "stream",
     "text": [
      "(6089, 512)\n"
     ]
    },
    {
     "name": "stderr",
     "output_type": "stream",
     "text": [
      "1509it [00:00, 8655.82it/s]\n"
     ]
    },
    {
     "name": "stdout",
     "output_type": "stream",
     "text": [
      "(1509, 512)\n",
      "(6089,) (1509,)\n",
      "Slicing Images...\n",
      "Training MGS Random Forests...\n",
      "Slicing Images...\n",
      "Training MGS Random Forests...\n"
     ]
    },
    {
     "name": "stderr",
     "output_type": "stream",
     "text": [
      "/home/moto/miniconda3/envs/py39/lib/python3.9/site-packages/sklearn/ensemble/_forest.py:615: UserWarning: Some inputs do not have OOB scores. This probably means too few trees were used to compute any reliable OOB estimates.\n",
      "  warn(\n"
     ]
    },
    {
     "name": "stdout",
     "output_type": "stream",
     "text": [
      "Adding/Training Layer, n_layer=1\n",
      "Layer validation accuracy = 0.9630541871921182\n",
      "Adding/Training Layer, n_layer=2\n",
      "Layer validation accuracy = 0.9622331691297209\n",
      "Slicing Images...\n",
      "Slicing Images...\n",
      "\n",
      "Validation Accuracy: 0.958 %\n",
      "========================================\n"
     ]
    },
    {
     "data": {
      "text/plain": [
       "1"
      ]
     },
     "execution_count": 12,
     "metadata": {},
     "output_type": "execute_result"
    }
   ],
   "source": [
    "dict_models = {}\n",
    "\n",
    "fold = 0\n",
    "# if True:\n",
    "run_folds = [0] # list(range(nb_folds)) + [-1]\n",
    "print(\"run_folds:\", run_folds)\n",
    "for fold in run_folds:\n",
    "    print(\"=\"*40)\n",
    "    print( f\"Processing fold {fold} ... \")\n",
    "    \n",
    "    df_fold_train = df_folds[df_folds[\"fold\"] != fold].reset_index(drop=True)\n",
    "    if fold >= 0:\n",
    "        df_fold_val = df_folds[df_folds[\"fold\"] == fold].reset_index(drop=True)\n",
    "    else:\n",
    "        df_fold_val = df_fold_train.copy()\n",
    "    \n",
    "    X_train = []\n",
    "    for index, row in tqdm(df_fold_train.iterrows()):\n",
    "        img = get_features_row(row)\n",
    "        X_train.append(img.flatten())\n",
    "        \n",
    "    X_train = np.stack(X_train)\n",
    "    print(X_train.shape) # (539, 98304)\n",
    "    \n",
    "    X_val = []\n",
    "    for index, row in tqdm(df_fold_val.iterrows()):\n",
    "        img = get_features_row(row)\n",
    "        X_val.append(img.flatten())\n",
    "        \n",
    "    X_val = np.stack(X_val)\n",
    "    print(X_val.shape) # (135, 98304)\n",
    "    \n",
    "    y_train = np.array(df_fold_train[\"target\"])\n",
    "    y_val = np.array(df_fold_val[\"target\"])\n",
    "    print(y_train.shape, y_val.shape)\n",
    "\n",
    "    # model = CascadeForestClassifier(random_state=1)\n",
    "    model = gcForest(shape_1X=[8,8], window=[4,6], tolerance=0.0, min_samples_mgs=10, min_samples_cascade=7)\n",
    "    model.fit(X_train, y_train) # Be careful when fold==-1, train == val\n",
    "    \n",
    "    y_pred = model.predict_proba(X_val)\n",
    "    acc = (y_pred.argmax(axis=1) == y_val).mean()\n",
    "    print(\"\\nValidation Accuracy: {:.3f} %\".format(acc)) # Testing Accuracy: 82.963 %\n",
    "\n",
    "    dict_models[fold] = {\n",
    "        \"model\": model,\n",
    "        \"metrics\": {\n",
    "            \"acc\": acc,\n",
    "        },\n",
    "        \"y_pred\": y_pred,\n",
    "        \"y_val\": y_val,\n",
    "        \"df_val\": df_fold_val\n",
    "    }\n",
    "    print(\"=\"*40)\n",
    "\n",
    "len(dict_models)"
   ]
  },
  {
   "cell_type": "code",
   "execution_count": 14,
   "id": "b2f51acd-beb3-4aa5-b711-1bd9da6e4542",
   "metadata": {
    "execution": {
     "iopub.execute_input": "2025-01-25T19:48:11.101547Z",
     "iopub.status.busy": "2025-01-25T19:48:11.100540Z",
     "iopub.status.idle": "2025-01-25T19:48:11.491732Z",
     "shell.execute_reply": "2025-01-25T19:48:11.490376Z",
     "shell.execute_reply.started": "2025-01-25T19:48:11.101504Z"
    }
   },
   "outputs": [
    {
     "name": "stdout",
     "output_type": "stream",
     "text": [
      "\n",
      "Validation Accuracy: 0.958 %\n"
     ]
    },
    {
     "data": {
      "image/png": "[encoded data removed]",
      "text/plain": [
       "<Figure size 640x480 with 2 Axes>"
      ]
     },
     "metadata": {},
     "output_type": "display_data"
    }
   ],
   "source": [
    "acc = (y_pred.argmax(axis=1) == y_val).mean()\n",
    "print(\"\\nValidation Accuracy: {:.3f} %\".format(acc)) # Testing Accuracy: 82.963 %\n",
    "\n",
    "clf_classes = list(range(2))\n",
    "cm = confusion_matrix(y_val, y_pred.argmax(axis=1), labels=clf_classes)\n",
    "disp = ConfusionMatrixDisplay(confusion_matrix=cm,\n",
    "                              display_labels=clf_classes)\n",
    "disp.plot();"
   ]
  },
  {
   "cell_type": "code",
   "execution_count": 15,
   "id": "9ae11ae5-f28a-4419-b65f-ed5c6ae2b75e",
   "metadata": {
    "execution": {
     "iopub.execute_input": "2025-01-25T19:48:17.190692Z",
     "iopub.status.busy": "2025-01-25T19:48:17.190249Z",
     "iopub.status.idle": "2025-01-25T19:48:17.230211Z",
     "shell.execute_reply": "2025-01-25T19:48:17.228323Z",
     "shell.execute_reply.started": "2025-01-25T19:48:17.190655Z"
    }
   },
   "outputs": [
    {
     "data": {
      "text/html": [
       "<div>\n",
       "<style scoped>\n",
       "    .dataframe tbody tr th:only-of-type {\n",
       "        vertical-align: middle;\n",
       "    }\n",
       "\n",
       "    .dataframe tbody tr th {\n",
       "        vertical-align: top;\n",
       "    }\n",
       "\n",
       "    .dataframe thead th {\n",
       "        text-align: right;\n",
       "    }\n",
       "</style>\n",
       "<table border=\"1\" class=\"dataframe\">\n",
       "  <thead>\n",
       "    <tr style=\"text-align: right;\">\n",
       "      <th></th>\n",
       "      <th>filename</th>\n",
       "      <th>butterfly_id</th>\n",
       "      <th>hybrid_stat</th>\n",
       "      <th>subspecies</th>\n",
       "      <th>target</th>\n",
       "      <th>fold</th>\n",
       "      <th>pred</th>\n",
       "      <th>prob</th>\n",
       "      <th>0</th>\n",
       "      <th>1</th>\n",
       "    </tr>\n",
       "  </thead>\n",
       "  <tbody>\n",
       "    <tr>\n",
       "      <th>0</th>\n",
       "      <td>sub_images/positive/CAM040596_3.jpg</td>\n",
       "      <td>CAM040596</td>\n",
       "      <td>non-hybrid</td>\n",
       "      <td>2.0</td>\n",
       "      <td>0</td>\n",
       "      <td>0</td>\n",
       "      <td>0</td>\n",
       "      <td>0.994224</td>\n",
       "      <td>0.994224</td>\n",
       "      <td>0.005776</td>\n",
       "    </tr>\n",
       "    <tr>\n",
       "      <th>1</th>\n",
       "      <td>sub_images/positive/CAM040572_0.jpg</td>\n",
       "      <td>CAM040572</td>\n",
       "      <td>non-hybrid</td>\n",
       "      <td>2.0</td>\n",
       "      <td>0</td>\n",
       "      <td>0</td>\n",
       "      <td>0</td>\n",
       "      <td>0.995050</td>\n",
       "      <td>0.995050</td>\n",
       "      <td>0.004950</td>\n",
       "    </tr>\n",
       "    <tr>\n",
       "      <th>2</th>\n",
       "      <td>sub_images/positive/CAM040241_0.jpg</td>\n",
       "      <td>CAM040241</td>\n",
       "      <td>non-hybrid</td>\n",
       "      <td>8.0</td>\n",
       "      <td>0</td>\n",
       "      <td>0</td>\n",
       "      <td>0</td>\n",
       "      <td>0.992574</td>\n",
       "      <td>0.992574</td>\n",
       "      <td>0.007426</td>\n",
       "    </tr>\n",
       "    <tr>\n",
       "      <th>3</th>\n",
       "      <td>sub_images/positive/CAM016078_0.jpg</td>\n",
       "      <td>CAM016078</td>\n",
       "      <td>non-hybrid</td>\n",
       "      <td>9.0</td>\n",
       "      <td>0</td>\n",
       "      <td>0</td>\n",
       "      <td>0</td>\n",
       "      <td>0.998762</td>\n",
       "      <td>0.998762</td>\n",
       "      <td>0.001238</td>\n",
       "    </tr>\n",
       "    <tr>\n",
       "      <th>4</th>\n",
       "      <td>sub_images/positive/CS003654_0.jpg</td>\n",
       "      <td>CS003654</td>\n",
       "      <td>non-hybrid</td>\n",
       "      <td>13.0</td>\n",
       "      <td>0</td>\n",
       "      <td>0</td>\n",
       "      <td>0</td>\n",
       "      <td>1.000000</td>\n",
       "      <td>1.000000</td>\n",
       "      <td>0.000000</td>\n",
       "    </tr>\n",
       "    <tr>\n",
       "      <th>...</th>\n",
       "      <td>...</td>\n",
       "      <td>...</td>\n",
       "      <td>...</td>\n",
       "      <td>...</td>\n",
       "      <td>...</td>\n",
       "      <td>...</td>\n",
       "      <td>...</td>\n",
       "      <td>...</td>\n",
       "      <td>...</td>\n",
       "      <td>...</td>\n",
       "    </tr>\n",
       "    <tr>\n",
       "      <th>1504</th>\n",
       "      <td>sub_images/positive/CAM040169_3.jpg</td>\n",
       "      <td>CAM040169</td>\n",
       "      <td>non-hybrid</td>\n",
       "      <td>8.0</td>\n",
       "      <td>0</td>\n",
       "      <td>0</td>\n",
       "      <td>0</td>\n",
       "      <td>0.857848</td>\n",
       "      <td>0.857848</td>\n",
       "      <td>0.142152</td>\n",
       "    </tr>\n",
       "    <tr>\n",
       "      <th>1505</th>\n",
       "      <td>sub_images/positive/CAM008184_3.jpg</td>\n",
       "      <td>CAM008184</td>\n",
       "      <td>non-hybrid</td>\n",
       "      <td>7.0</td>\n",
       "      <td>0</td>\n",
       "      <td>0</td>\n",
       "      <td>0</td>\n",
       "      <td>0.995792</td>\n",
       "      <td>0.995792</td>\n",
       "      <td>0.004208</td>\n",
       "    </tr>\n",
       "    <tr>\n",
       "      <th>1506</th>\n",
       "      <td>sub_images/positive/CAM040686_1.jpg</td>\n",
       "      <td>CAM040686</td>\n",
       "      <td>non-hybrid</td>\n",
       "      <td>2.0</td>\n",
       "      <td>0</td>\n",
       "      <td>0</td>\n",
       "      <td>0</td>\n",
       "      <td>1.000000</td>\n",
       "      <td>1.000000</td>\n",
       "      <td>0.000000</td>\n",
       "    </tr>\n",
       "    <tr>\n",
       "      <th>1507</th>\n",
       "      <td>sub_images/positive/CAM045130_3.jpg</td>\n",
       "      <td>CAM045130</td>\n",
       "      <td>non-hybrid</td>\n",
       "      <td>2.0</td>\n",
       "      <td>0</td>\n",
       "      <td>0</td>\n",
       "      <td>0</td>\n",
       "      <td>0.999381</td>\n",
       "      <td>0.999381</td>\n",
       "      <td>0.000619</td>\n",
       "    </tr>\n",
       "    <tr>\n",
       "      <th>1508</th>\n",
       "      <td>sub_images/positive/CAM016815_2.jpg</td>\n",
       "      <td>CAM016815</td>\n",
       "      <td>non-hybrid</td>\n",
       "      <td>9.0</td>\n",
       "      <td>0</td>\n",
       "      <td>0</td>\n",
       "      <td>0</td>\n",
       "      <td>1.000000</td>\n",
       "      <td>1.000000</td>\n",
       "      <td>0.000000</td>\n",
       "    </tr>\n",
       "  </tbody>\n",
       "</table>\n",
       "<p>1509 rows × 10 columns</p>\n",
       "</div>"
      ],
      "text/plain": [
       "                                 filename butterfly_id hybrid_stat  \\\n",
       "0     sub_images/positive/CAM040596_3.jpg    CAM040596  non-hybrid   \n",
       "1     sub_images/positive/CAM040572_0.jpg    CAM040572  non-hybrid   \n",
       "2     sub_images/positive/CAM040241_0.jpg    CAM040241  non-hybrid   \n",
       "3     sub_images/positive/CAM016078_0.jpg    CAM016078  non-hybrid   \n",
       "4      sub_images/positive/CS003654_0.jpg     CS003654  non-hybrid   \n",
       "...                                   ...          ...         ...   \n",
       "1504  sub_images/positive/CAM040169_3.jpg    CAM040169  non-hybrid   \n",
       "1505  sub_images/positive/CAM008184_3.jpg    CAM008184  non-hybrid   \n",
       "1506  sub_images/positive/CAM040686_1.jpg    CAM040686  non-hybrid   \n",
       "1507  sub_images/positive/CAM045130_3.jpg    CAM045130  non-hybrid   \n",
       "1508  sub_images/positive/CAM016815_2.jpg    CAM016815  non-hybrid   \n",
       "\n",
       "      subspecies  target  fold  pred      prob         0         1  \n",
       "0            2.0       0     0     0  0.994224  0.994224  0.005776  \n",
       "1            2.0       0     0     0  0.995050  0.995050  0.004950  \n",
       "2            8.0       0     0     0  0.992574  0.992574  0.007426  \n",
       "3            9.0       0     0     0  0.998762  0.998762  0.001238  \n",
       "4           13.0       0     0     0  1.000000  1.000000  0.000000  \n",
       "...          ...     ...   ...   ...       ...       ...       ...  \n",
       "1504         8.0       0     0     0  0.857848  0.857848  0.142152  \n",
       "1505         7.0       0     0     0  0.995792  0.995792  0.004208  \n",
       "1506         2.0       0     0     0  1.000000  1.000000  0.000000  \n",
       "1507         2.0       0     0     0  0.999381  0.999381  0.000619  \n",
       "1508         9.0       0     0     0  1.000000  1.000000  0.000000  \n",
       "\n",
       "[1509 rows x 10 columns]"
      ]
     },
     "execution_count": 15,
     "metadata": {},
     "output_type": "execute_result"
    }
   ],
   "source": [
    "dict_models[0].keys()\n",
    "\n",
    "fold = 0\n",
    "df_show = dict_models[fold][\"df_val\"] # dict_keys(['model', 'metrics', 'y_pred', 'y_val', 'df_val'])\n",
    "df_show[\"pred\"] = dict_models[fold][\"y_pred\"].argmax(axis=1)\n",
    "df_show[\"prob\"] = dict_models[fold][\"y_pred\"].max(axis=1)\n",
    "for i in range(2):\n",
    "    df_show[i] = dict_models[fold][\"y_pred\"][:,i]\n",
    "df_show"
   ]
  },
  {
   "cell_type": "code",
   "execution_count": 16,
   "id": "43754916-7f7c-4f69-84e8-4b5a9171a525",
   "metadata": {
    "execution": {
     "iopub.execute_input": "2025-01-25T19:48:17.918640Z",
     "iopub.status.busy": "2025-01-25T19:48:17.917762Z",
     "iopub.status.idle": "2025-01-25T19:48:17.929987Z",
     "shell.execute_reply": "2025-01-25T19:48:17.927610Z",
     "shell.execute_reply.started": "2025-01-25T19:48:17.918564Z"
    }
   },
   "outputs": [],
   "source": [
    "df_p2 = df_show.copy()"
   ]
  },
  {
   "cell_type": "code",
   "execution_count": 17,
   "id": "1f2204a4-1d48-4ba7-af7e-f70a0d60cb95",
   "metadata": {
    "execution": {
     "iopub.execute_input": "2025-01-25T19:48:18.782077Z",
     "iopub.status.busy": "2025-01-25T19:48:18.781268Z",
     "iopub.status.idle": "2025-01-25T19:48:18.815141Z",
     "shell.execute_reply": "2025-01-25T19:48:18.813582Z",
     "shell.execute_reply.started": "2025-01-25T19:48:18.782003Z"
    }
   },
   "outputs": [
    {
     "name": "stdout",
     "output_type": "stream",
     "text": [
      "pred\n",
      "1    402\n",
      "2     15\n",
      "Name: count, dtype: int64\n"
     ]
    },
    {
     "data": {
      "text/html": [
       "<div>\n",
       "<style scoped>\n",
       "    .dataframe tbody tr th:only-of-type {\n",
       "        vertical-align: middle;\n",
       "    }\n",
       "\n",
       "    .dataframe tbody tr th {\n",
       "        vertical-align: top;\n",
       "    }\n",
       "\n",
       "    .dataframe thead th {\n",
       "        text-align: right;\n",
       "    }\n",
       "</style>\n",
       "<table border=\"1\" class=\"dataframe\">\n",
       "  <thead>\n",
       "    <tr style=\"text-align: right;\">\n",
       "      <th></th>\n",
       "      <th>butterfly_id</th>\n",
       "      <th>target</th>\n",
       "      <th>mean</th>\n",
       "      <th>max</th>\n",
       "      <th>std</th>\n",
       "    </tr>\n",
       "  </thead>\n",
       "  <tbody>\n",
       "    <tr>\n",
       "      <th>0</th>\n",
       "      <td>15N016</td>\n",
       "      <td>0</td>\n",
       "      <td>0.000712</td>\n",
       "      <td>0.001856</td>\n",
       "      <td>0.000895</td>\n",
       "    </tr>\n",
       "    <tr>\n",
       "      <th>1</th>\n",
       "      <td>19N0005</td>\n",
       "      <td>0</td>\n",
       "      <td>0.000000</td>\n",
       "      <td>0.000000</td>\n",
       "      <td>0.000000</td>\n",
       "    </tr>\n",
       "    <tr>\n",
       "      <th>2</th>\n",
       "      <td>19N0006</td>\n",
       "      <td>0</td>\n",
       "      <td>0.000138</td>\n",
       "      <td>0.000550</td>\n",
       "      <td>0.000275</td>\n",
       "    </tr>\n",
       "    <tr>\n",
       "      <th>3</th>\n",
       "      <td>19N0017</td>\n",
       "      <td>0</td>\n",
       "      <td>0.000177</td>\n",
       "      <td>0.000707</td>\n",
       "      <td>0.000354</td>\n",
       "    </tr>\n",
       "    <tr>\n",
       "      <th>4</th>\n",
       "      <td>19N0022</td>\n",
       "      <td>0</td>\n",
       "      <td>0.001702</td>\n",
       "      <td>0.006807</td>\n",
       "      <td>0.003403</td>\n",
       "    </tr>\n",
       "    <tr>\n",
       "      <th>...</th>\n",
       "      <td>...</td>\n",
       "      <td>...</td>\n",
       "      <td>...</td>\n",
       "      <td>...</td>\n",
       "      <td>...</td>\n",
       "    </tr>\n",
       "    <tr>\n",
       "      <th>412</th>\n",
       "      <td>F948</td>\n",
       "      <td>0</td>\n",
       "      <td>0.000000</td>\n",
       "      <td>0.000000</td>\n",
       "      <td>NaN</td>\n",
       "    </tr>\n",
       "    <tr>\n",
       "      <th>413</th>\n",
       "      <td>F968</td>\n",
       "      <td>0</td>\n",
       "      <td>0.002970</td>\n",
       "      <td>0.005941</td>\n",
       "      <td>0.004201</td>\n",
       "    </tr>\n",
       "    <tr>\n",
       "      <th>414</th>\n",
       "      <td>F984</td>\n",
       "      <td>0</td>\n",
       "      <td>0.000000</td>\n",
       "      <td>0.000000</td>\n",
       "      <td>0.000000</td>\n",
       "    </tr>\n",
       "    <tr>\n",
       "      <th>415</th>\n",
       "      <td>F998</td>\n",
       "      <td>0</td>\n",
       "      <td>0.008192</td>\n",
       "      <td>0.016384</td>\n",
       "      <td>0.011585</td>\n",
       "    </tr>\n",
       "    <tr>\n",
       "      <th>416</th>\n",
       "      <td>SHM000154</td>\n",
       "      <td>0</td>\n",
       "      <td>0.041985</td>\n",
       "      <td>0.062699</td>\n",
       "      <td>0.027776</td>\n",
       "    </tr>\n",
       "  </tbody>\n",
       "</table>\n",
       "<p>417 rows × 5 columns</p>\n",
       "</div>"
      ],
      "text/plain": [
       "    butterfly_id  target      mean       max       std\n",
       "0         15N016       0  0.000712  0.001856  0.000895\n",
       "1        19N0005       0  0.000000  0.000000  0.000000\n",
       "2        19N0006       0  0.000138  0.000550  0.000275\n",
       "3        19N0017       0  0.000177  0.000707  0.000354\n",
       "4        19N0022       0  0.001702  0.006807  0.003403\n",
       "..           ...     ...       ...       ...       ...\n",
       "412         F948       0  0.000000  0.000000       NaN\n",
       "413         F968       0  0.002970  0.005941  0.004201\n",
       "414         F984       0  0.000000  0.000000  0.000000\n",
       "415         F998       0  0.008192  0.016384  0.011585\n",
       "416    SHM000154       0  0.041985  0.062699  0.027776\n",
       "\n",
       "[417 rows x 5 columns]"
      ]
     },
     "execution_count": 17,
     "metadata": {},
     "output_type": "execute_result"
    }
   ],
   "source": [
    "df_show_agg = df_show.groupby(\"butterfly_id\")[\"pred\"].nunique()\n",
    "print(df_show_agg.value_counts())\n",
    "\n",
    "df_show_agg = df_show.groupby([\"butterfly_id\", \"target\"])[1].agg([\"mean\", \"max\", \"std\"]).reset_index()\n",
    "df_show_agg"
   ]
  },
  {
   "cell_type": "code",
   "execution_count": 27,
   "id": "dc99fa1b-f7f4-4857-a0cd-b0cc0a11b071",
   "metadata": {
    "execution": {
     "iopub.execute_input": "2025-01-25T19:48:41.894937Z",
     "iopub.status.busy": "2025-01-25T19:48:41.894255Z",
     "iopub.status.idle": "2025-01-25T19:48:42.118444Z",
     "shell.execute_reply": "2025-01-25T19:48:42.117393Z",
     "shell.execute_reply.started": "2025-01-25T19:48:41.894897Z"
    }
   },
   "outputs": [
    {
     "data": {
      "image/png": "[encoded data removed]",
      "text/plain": [
       "<Figure size 640x480 with 1 Axes>"
      ]
     },
     "metadata": {},
     "output_type": "display_data"
    }
   ],
   "source": [
    "df_show_agg.plot.scatter(x='mean',\n",
    "                         y='target',\n",
    "                         c='DarkBlue', s=1);"
   ]
  },
  {
   "cell_type": "code",
   "execution_count": 29,
   "id": "94ad8223-7f01-4b8e-9230-5dd0cf322dbe",
   "metadata": {
    "execution": {
     "iopub.execute_input": "2025-01-25T19:50:20.075076Z",
     "iopub.status.busy": "2025-01-25T19:50:20.074255Z",
     "iopub.status.idle": "2025-01-25T19:50:21.267566Z",
     "shell.execute_reply": "2025-01-25T19:50:21.266512Z",
     "shell.execute_reply.started": "2025-01-25T19:50:20.075001Z"
    }
   },
   "outputs": [
    {
     "data": {
      "text/plain": [
       "(np.float64(0.9473684210526315),\n",
       " np.float64(0.4864864864864865),\n",
       " np.float64(0.6428571428571429),\n",
       " np.float64(0.9498148637926473),\n",
       " 0.9520383693045563,\n",
       " 0.718126494536945)"
      ]
     },
     "execution_count": 29,
     "metadata": {},
     "output_type": "execute_result"
    }
   ],
   "source": [
    "rs = evaluate(scores=df_show_agg[\"mean\"], labels=df_show_agg[\"target\"])\n",
    "rs"
   ]
  },
  {
   "cell_type": "code",
   "execution_count": 30,
   "id": "6c8b6046-9303-4171-b471-4f8b782fbea4",
   "metadata": {
    "execution": {
     "iopub.execute_input": "2025-01-25T19:50:22.231343Z",
     "iopub.status.busy": "2025-01-25T19:50:22.230838Z",
     "iopub.status.idle": "2025-01-25T19:50:22.238514Z",
     "shell.execute_reply": "2025-01-25T19:50:22.237496Z",
     "shell.execute_reply.started": "2025-01-25T19:50:22.231299Z"
    }
   },
   "outputs": [
    {
     "name": "stdout",
     "output_type": "stream",
     "text": [
      "\n",
      "          Hybrid-Recall: 0.9473684210526315\n",
      "          Hybrid-Precision: 0.4864864864864865\n",
      "          f1-Score: 0.6428571428571429\n",
      "          ROC AUC: 0.9498148637926473\n",
      "          Accuracy: 0.9520383693045563,\n",
      "          PR AUC: 0.718126494536945\n",
      "          \n"
     ]
    }
   ],
   "source": [
    "# Your algorithm needs to generate an anomaly score for each input image: the higher the score is, \n",
    "# the more likely the input image is an anomaly (i.e., hybrid).\n",
    "\n",
    "# The submissions are evaluated based on two metrics:\n",
    "# - The true positive rate (TPR) at the true negative rate (TNR) = 95%: \n",
    "# the recall of hybrid cases, with a score threshold set to recognizing non-hybrid cases with 95% accuracy.\n",
    "# - PRC AUC\n",
    "                                                 \n",
    "print_evaluation(*rs)"
   ]
  },
  {
   "cell_type": "code",
   "execution_count": 31,
   "id": "1a1bf72b-504b-4870-aeed-b97b5b805411",
   "metadata": {
    "execution": {
     "iopub.execute_input": "2025-01-25T19:50:36.078242Z",
     "iopub.status.busy": "2025-01-25T19:50:36.076290Z",
     "iopub.status.idle": "2025-01-25T19:50:36.095188Z",
     "shell.execute_reply": "2025-01-25T19:50:36.092833Z",
     "shell.execute_reply.started": "2025-01-25T19:50:36.078156Z"
    }
   },
   "outputs": [
    {
     "data": {
      "text/plain": [
       "0.8161233267028387"
      ]
     },
     "execution_count": 31,
     "metadata": {},
     "output_type": "execute_result"
    }
   ],
   "source": [
    "cal_pr_auc(gt=df_show_agg[\"target\"], preds=df_show_agg[\"mean\"])"
   ]
  },
  {
   "cell_type": "markdown",
   "id": "cf9cffde-ac19-42d5-aee9-cea76c6b2c3f",
   "metadata": {
    "execution": {
     "iopub.execute_input": "2025-01-22T16:36:45.224973Z",
     "iopub.status.busy": "2025-01-22T16:36:45.224635Z",
     "iopub.status.idle": "2025-01-22T16:36:45.715496Z",
     "shell.execute_reply": "2025-01-22T16:36:45.714076Z",
     "shell.execute_reply.started": "2025-01-22T16:36:45.224939Z"
    }
   },
   "source": [
    "# Save"
   ]
  },
  {
   "cell_type": "code",
   "execution_count": 23,
   "id": "c028f525-8fde-42ca-bb9e-630b7199f6a3",
   "metadata": {
    "execution": {
     "iopub.execute_input": "2025-01-25T19:48:23.807510Z",
     "iopub.status.busy": "2025-01-25T19:48:23.806733Z",
     "iopub.status.idle": "2025-01-25T19:48:24.091559Z",
     "shell.execute_reply": "2025-01-25T19:48:24.089256Z",
     "shell.execute_reply.started": "2025-01-25T19:48:23.807467Z"
    }
   },
   "outputs": [],
   "source": [
    "dict_model_submission = {\n",
    "    \"model\": dict_models[0][\"model\"]\n",
    "}\n",
    "\n",
    "with open('workspace/butterfly_models_bin.pickle', 'wb') as handle:\n",
    "    pickle.dump(dict_model_submission, handle)"
   ]
  },
  {
   "cell_type": "code",
   "execution_count": 24,
   "id": "3359e386-13b8-40bb-9f0e-ee568caa8d8c",
   "metadata": {
    "execution": {
     "iopub.execute_input": "2025-01-25T19:48:24.326459Z",
     "iopub.status.busy": "2025-01-25T19:48:24.325650Z",
     "iopub.status.idle": "2025-01-25T19:48:24.340982Z",
     "shell.execute_reply": "2025-01-25T19:48:24.338706Z",
     "shell.execute_reply.started": "2025-01-25T19:48:24.326386Z"
    }
   },
   "outputs": [
    {
     "data": {
      "text/plain": [
       "(dict_keys(['model', 'metrics', 'y_pred', 'y_val', 'df_val']),\n",
       " GCForest.gcForest)"
      ]
     },
     "execution_count": 24,
     "metadata": {},
     "output_type": "execute_result"
    }
   ],
   "source": [
    "dict_models[0].keys(), type(dict_models[0][\"model\"])"
   ]
  },
  {
   "cell_type": "code",
   "execution_count": 25,
   "id": "acaf0b57-aa24-40b4-ae2a-df7f1aeff849",
   "metadata": {
    "execution": {
     "iopub.execute_input": "2025-01-25T19:48:24.960695Z",
     "iopub.status.busy": "2025-01-25T19:48:24.959923Z",
     "iopub.status.idle": "2025-01-25T19:48:27.393435Z",
     "shell.execute_reply": "2025-01-25T19:48:27.392023Z",
     "shell.execute_reply.started": "2025-01-25T19:48:24.960623Z"
    }
   },
   "outputs": [
    {
     "data": {
      "text/plain": [
       "('1.4.2', '4.48.0')"
      ]
     },
     "execution_count": 25,
     "metadata": {},
     "output_type": "execute_result"
    }
   ],
   "source": [
    "import sklearn\n",
    "import transformers\n",
    "sklearn.__version__, transformers.__version__"
   ]
  },
  {
   "cell_type": "code",
   "execution_count": 26,
   "id": "3dba0cfa-6a48-4d47-b462-fbc918ee108b",
   "metadata": {
    "execution": {
     "iopub.execute_input": "2025-01-25T19:48:27.395381Z",
     "iopub.status.busy": "2025-01-25T19:48:27.394930Z",
     "iopub.status.idle": "2025-01-25T19:48:28.685805Z",
     "shell.execute_reply": "2025-01-25T19:48:28.684717Z",
     "shell.execute_reply.started": "2025-01-25T19:48:27.395346Z"
    }
   },
   "outputs": [
    {
     "data": {
      "text/plain": [
       "('2.3.0+cu121', '0.18.0+cu121')"
      ]
     },
     "execution_count": 26,
     "metadata": {},
     "output_type": "execute_result"
    }
   ],
   "source": [
    "import torch\n",
    "import torchvision\n",
    "torch.__version__, torchvision.__version__"
   ]
  },
  {
   "cell_type": "code",
   "execution_count": null,
   "id": "cfd9c8f8-0808-4712-b4f0-94e82806c8b4",
   "metadata": {},
   "outputs": [],
   "source": []
  },
  {
   "cell_type": "code",
   "execution_count": null,
   "id": "e2a90501-cd0c-4f86-8346-062315e93eb7",
   "metadata": {},
   "outputs": [],
   "source": []
  }
 ],
 "metadata": {
  "kernelspec": {
   "display_name": "Python 3 (ipykernel)",
   "language": "python",
   "name": "python3"
  },
  "language_info": {
   "codemirror_mode": {
    "name": "ipython",
    "version": 3
   },
   "file_extension": ".py",
   "mimetype": "text/x-python",
   "name": "python",
   "nbconvert_exporter": "python",
   "pygments_lexer": "ipython3",
   "version": "3.9.21"
  }
 },
 "nbformat": 4,
 "nbformat_minor": 5
}
